{
  "cells": [
    {
      "cell_type": "markdown",
      "metadata": {
        "id": "xvSGDbExff_I"
      },
      "source": [
        "# **Homework 7 - Bert (Question Answering)**\n",
        "\n",
        "If you have any questions, feel free to email us at mlta-2022-spring@googlegroups.com\n",
        "\n",
        "\n",
        "\n",
        "Slide:    [Link](https://docs.google.com/presentation/d/1H5ZONrb2LMOCixLY7D5_5-7LkIaXO6AGEaV2mRdTOMY/edit?usp=sharing)　Kaggle: [Link](https://www.kaggle.com/c/ml2022spring-hw7)　Data: [Link](https://drive.google.com/uc?id=1AVgZvy3VFeg0fX-6WQJMHPVrx3A-M1kb)\n",
        "\n",
        "\n"
      ]
    },
    {
      "cell_type": "markdown",
      "metadata": {
        "id": "WGOr_eS3wJJf"
      },
      "source": [
        "## Task description\n",
        "- Chinese Extractive Question Answering\n",
        "  - Input: Paragraph + Question\n",
        "  - Output: Answer\n",
        "\n",
        "- Objective: Learn how to fine tune a pretrained model on downstream task using transformers\n",
        "\n",
        "- Todo\n",
        "    - Fine tune a pretrained chinese BERT model\n",
        "    - Change hyperparameters (e.g. doc_stride)\n",
        "    - Apply linear learning rate decay\n",
        "    - Try other pretrained models\n",
        "    - Improve preprocessing\n",
        "    - Improve postprocessing\n",
        "- Training tips\n",
        "    - Automatic mixed precision\n",
        "    - Gradient accumulation\n",
        "    - Ensemble\n",
        "\n",
        "- Estimated training time (tesla t4 with automatic mixed precision enabled)\n",
        "    - Simple: 8mins\n",
        "    - Medium: 8mins\n",
        "    - Strong: 25mins\n",
        "    - Boss: 2.5hrs\n",
        "  "
      ]
    },
    {
      "cell_type": "markdown",
      "metadata": {
        "id": "TJ1fSAJE2oaC"
      },
      "source": [
        "## Download Dataset"
      ]
    },
    {
      "cell_type": "code",
      "execution_count": 1,
      "metadata": {
        "colab": {
          "base_uri": "https://localhost:8080/"
        },
        "id": "YPrc4Eie9Yo5",
        "outputId": "bf99f16b-df8f-460d-efd1-d5c9767ae2b1",
        "vscode": {
          "languageId": "python"
        }
      },
      "outputs": [
        {
          "output_type": "stream",
          "name": "stdout",
          "text": [
            "/usr/local/lib/python3.7/dist-packages/gdown/cli.py:131: FutureWarning: Option `--id` was deprecated in version 4.3.1 and will be removed in 5.0. You don't need to pass it anymore to use a file ID.\n",
            "  category=FutureWarning,\n",
            "Downloading...\n",
            "From: https://drive.google.com/uc?id=1AVgZvy3VFeg0fX-6WQJMHPVrx3A-M1kb\n",
            "To: /content/hw7_data.zip\n",
            "100% 9.57M/9.57M [00:00<00:00, 137MB/s]\n",
            "Archive:  hw7_data.zip\n",
            "  inflating: hw7_dev.json            \n",
            "  inflating: hw7_test.json           \n",
            "  inflating: hw7_train.json          \n",
            "Mon May  2 03:18:42 2022       \n",
            "+-----------------------------------------------------------------------------+\n",
            "| NVIDIA-SMI 460.32.03    Driver Version: 460.32.03    CUDA Version: 11.2     |\n",
            "|-------------------------------+----------------------+----------------------+\n",
            "| GPU  Name        Persistence-M| Bus-Id        Disp.A | Volatile Uncorr. ECC |\n",
            "| Fan  Temp  Perf  Pwr:Usage/Cap|         Memory-Usage | GPU-Util  Compute M. |\n",
            "|                               |                      |               MIG M. |\n",
            "|===============================+======================+======================|\n",
            "|   0  Tesla T4            Off  | 00000000:00:04.0 Off |                    0 |\n",
            "| N/A   39C    P8     9W /  70W |      0MiB / 15109MiB |      0%      Default |\n",
            "|                               |                      |                  N/A |\n",
            "+-------------------------------+----------------------+----------------------+\n",
            "                                                                               \n",
            "+-----------------------------------------------------------------------------+\n",
            "| Processes:                                                                  |\n",
            "|  GPU   GI   CI        PID   Type   Process name                  GPU Memory |\n",
            "|        ID   ID                                                   Usage      |\n",
            "|=============================================================================|\n",
            "|  No running processes found                                                 |\n",
            "+-----------------------------------------------------------------------------+\n"
          ]
        }
      ],
      "source": [
        "# Download link 1\n",
        "!gdown --id '1AVgZvy3VFeg0fX-6WQJMHPVrx3A-M1kb' --output hw7_data.zip\n",
        "\n",
        "# Download Link 2 (if the above link fails) \n",
        "# !gdown --id '1qwjbRjq481lHsnTrrF4OjKQnxzgoLEFR' --output hw7_data.zip\n",
        "\n",
        "# Download Link 3 (if the above link fails) \n",
        "# !gdown --id '1QXuWjNRZH6DscSd6QcRER0cnxmpZvijn' --output hw7_data.zip\n",
        "\n",
        "!unzip -o hw7_data.zip\n",
        "\n",
        "# For this HW, K80 < P4 < T4 < P100 <= T4(fp16) < V100\n",
        "!nvidia-smi"
      ]
    },
    {
      "cell_type": "markdown",
      "metadata": {
        "id": "TevOvhC03m0h"
      },
      "source": [
        "## Install transformers\n",
        "\n",
        "Documentation for the toolkit:　https://huggingface.co/transformers/"
      ]
    },
    {
      "cell_type": "code",
      "execution_count": 2,
      "metadata": {
        "colab": {
          "base_uri": "https://localhost:8080/"
        },
        "id": "tbxWFX_jpDom",
        "outputId": "84b16a04-70c2-40e1-e0a0-0237810f592e",
        "vscode": {
          "languageId": "python"
        }
      },
      "outputs": [
        {
          "output_type": "stream",
          "name": "stdout",
          "text": [
            "Collecting transformers==4.5.0\n",
            "  Downloading transformers-4.5.0-py3-none-any.whl (2.1 MB)\n",
            "\u001b[?25l\r\u001b[K     |▏                               | 10 kB 42.1 MB/s eta 0:00:01\r\u001b[K     |▎                               | 20 kB 44.0 MB/s eta 0:00:01\r\u001b[K     |▌                               | 30 kB 46.4 MB/s eta 0:00:01\r\u001b[K     |▋                               | 40 kB 50.4 MB/s eta 0:00:01\r\u001b[K     |▊                               | 51 kB 20.7 MB/s eta 0:00:01\r\u001b[K     |█                               | 61 kB 23.2 MB/s eta 0:00:01\r\u001b[K     |█                               | 71 kB 25.0 MB/s eta 0:00:01\r\u001b[K     |█▏                              | 81 kB 26.6 MB/s eta 0:00:01\r\u001b[K     |█▍                              | 92 kB 28.8 MB/s eta 0:00:01\r\u001b[K     |█▌                              | 102 kB 27.7 MB/s eta 0:00:01\r\u001b[K     |█▊                              | 112 kB 27.7 MB/s eta 0:00:01\r\u001b[K     |█▉                              | 122 kB 27.7 MB/s eta 0:00:01\r\u001b[K     |██                              | 133 kB 27.7 MB/s eta 0:00:01\r\u001b[K     |██▏                             | 143 kB 27.7 MB/s eta 0:00:01\r\u001b[K     |██▎                             | 153 kB 27.7 MB/s eta 0:00:01\r\u001b[K     |██▍                             | 163 kB 27.7 MB/s eta 0:00:01\r\u001b[K     |██▋                             | 174 kB 27.7 MB/s eta 0:00:01\r\u001b[K     |██▊                             | 184 kB 27.7 MB/s eta 0:00:01\r\u001b[K     |███                             | 194 kB 27.7 MB/s eta 0:00:01\r\u001b[K     |███                             | 204 kB 27.7 MB/s eta 0:00:01\r\u001b[K     |███▏                            | 215 kB 27.7 MB/s eta 0:00:01\r\u001b[K     |███▍                            | 225 kB 27.7 MB/s eta 0:00:01\r\u001b[K     |███▌                            | 235 kB 27.7 MB/s eta 0:00:01\r\u001b[K     |███▋                            | 245 kB 27.7 MB/s eta 0:00:01\r\u001b[K     |███▉                            | 256 kB 27.7 MB/s eta 0:00:01\r\u001b[K     |████                            | 266 kB 27.7 MB/s eta 0:00:01\r\u001b[K     |████▏                           | 276 kB 27.7 MB/s eta 0:00:01\r\u001b[K     |████▎                           | 286 kB 27.7 MB/s eta 0:00:01\r\u001b[K     |████▍                           | 296 kB 27.7 MB/s eta 0:00:01\r\u001b[K     |████▋                           | 307 kB 27.7 MB/s eta 0:00:01\r\u001b[K     |████▊                           | 317 kB 27.7 MB/s eta 0:00:01\r\u001b[K     |████▉                           | 327 kB 27.7 MB/s eta 0:00:01\r\u001b[K     |█████                           | 337 kB 27.7 MB/s eta 0:00:01\r\u001b[K     |█████▏                          | 348 kB 27.7 MB/s eta 0:00:01\r\u001b[K     |█████▍                          | 358 kB 27.7 MB/s eta 0:00:01\r\u001b[K     |█████▌                          | 368 kB 27.7 MB/s eta 0:00:01\r\u001b[K     |█████▋                          | 378 kB 27.7 MB/s eta 0:00:01\r\u001b[K     |█████▉                          | 389 kB 27.7 MB/s eta 0:00:01\r\u001b[K     |██████                          | 399 kB 27.7 MB/s eta 0:00:01\r\u001b[K     |██████                          | 409 kB 27.7 MB/s eta 0:00:01\r\u001b[K     |██████▎                         | 419 kB 27.7 MB/s eta 0:00:01\r\u001b[K     |██████▍                         | 430 kB 27.7 MB/s eta 0:00:01\r\u001b[K     |██████▋                         | 440 kB 27.7 MB/s eta 0:00:01\r\u001b[K     |██████▊                         | 450 kB 27.7 MB/s eta 0:00:01\r\u001b[K     |██████▉                         | 460 kB 27.7 MB/s eta 0:00:01\r\u001b[K     |███████                         | 471 kB 27.7 MB/s eta 0:00:01\r\u001b[K     |███████▏                        | 481 kB 27.7 MB/s eta 0:00:01\r\u001b[K     |███████▎                        | 491 kB 27.7 MB/s eta 0:00:01\r\u001b[K     |███████▌                        | 501 kB 27.7 MB/s eta 0:00:01\r\u001b[K     |███████▋                        | 512 kB 27.7 MB/s eta 0:00:01\r\u001b[K     |███████▉                        | 522 kB 27.7 MB/s eta 0:00:01\r\u001b[K     |████████                        | 532 kB 27.7 MB/s eta 0:00:01\r\u001b[K     |████████                        | 542 kB 27.7 MB/s eta 0:00:01\r\u001b[K     |████████▎                       | 552 kB 27.7 MB/s eta 0:00:01\r\u001b[K     |████████▍                       | 563 kB 27.7 MB/s eta 0:00:01\r\u001b[K     |████████▌                       | 573 kB 27.7 MB/s eta 0:00:01\r\u001b[K     |████████▊                       | 583 kB 27.7 MB/s eta 0:00:01\r\u001b[K     |████████▉                       | 593 kB 27.7 MB/s eta 0:00:01\r\u001b[K     |█████████                       | 604 kB 27.7 MB/s eta 0:00:01\r\u001b[K     |█████████▏                      | 614 kB 27.7 MB/s eta 0:00:01\r\u001b[K     |█████████▎                      | 624 kB 27.7 MB/s eta 0:00:01\r\u001b[K     |█████████▌                      | 634 kB 27.7 MB/s eta 0:00:01\r\u001b[K     |█████████▋                      | 645 kB 27.7 MB/s eta 0:00:01\r\u001b[K     |█████████▊                      | 655 kB 27.7 MB/s eta 0:00:01\r\u001b[K     |██████████                      | 665 kB 27.7 MB/s eta 0:00:01\r\u001b[K     |██████████                      | 675 kB 27.7 MB/s eta 0:00:01\r\u001b[K     |██████████▎                     | 686 kB 27.7 MB/s eta 0:00:01\r\u001b[K     |██████████▍                     | 696 kB 27.7 MB/s eta 0:00:01\r\u001b[K     |██████████▌                     | 706 kB 27.7 MB/s eta 0:00:01\r\u001b[K     |██████████▊                     | 716 kB 27.7 MB/s eta 0:00:01\r\u001b[K     |██████████▉                     | 727 kB 27.7 MB/s eta 0:00:01\r\u001b[K     |███████████                     | 737 kB 27.7 MB/s eta 0:00:01\r\u001b[K     |███████████▏                    | 747 kB 27.7 MB/s eta 0:00:01\r\u001b[K     |███████████▎                    | 757 kB 27.7 MB/s eta 0:00:01\r\u001b[K     |███████████▌                    | 768 kB 27.7 MB/s eta 0:00:01\r\u001b[K     |███████████▋                    | 778 kB 27.7 MB/s eta 0:00:01\r\u001b[K     |███████████▊                    | 788 kB 27.7 MB/s eta 0:00:01\r\u001b[K     |████████████                    | 798 kB 27.7 MB/s eta 0:00:01\r\u001b[K     |████████████                    | 808 kB 27.7 MB/s eta 0:00:01\r\u001b[K     |████████████▏                   | 819 kB 27.7 MB/s eta 0:00:01\r\u001b[K     |████████████▍                   | 829 kB 27.7 MB/s eta 0:00:01\r\u001b[K     |████████████▌                   | 839 kB 27.7 MB/s eta 0:00:01\r\u001b[K     |████████████▊                   | 849 kB 27.7 MB/s eta 0:00:01\r\u001b[K     |████████████▉                   | 860 kB 27.7 MB/s eta 0:00:01\r\u001b[K     |█████████████                   | 870 kB 27.7 MB/s eta 0:00:01\r\u001b[K     |█████████████▏                  | 880 kB 27.7 MB/s eta 0:00:01\r\u001b[K     |█████████████▎                  | 890 kB 27.7 MB/s eta 0:00:01\r\u001b[K     |█████████████▍                  | 901 kB 27.7 MB/s eta 0:00:01\r\u001b[K     |█████████████▋                  | 911 kB 27.7 MB/s eta 0:00:01\r\u001b[K     |█████████████▊                  | 921 kB 27.7 MB/s eta 0:00:01\r\u001b[K     |██████████████                  | 931 kB 27.7 MB/s eta 0:00:01\r\u001b[K     |██████████████                  | 942 kB 27.7 MB/s eta 0:00:01\r\u001b[K     |██████████████▏                 | 952 kB 27.7 MB/s eta 0:00:01\r\u001b[K     |██████████████▍                 | 962 kB 27.7 MB/s eta 0:00:01\r\u001b[K     |██████████████▌                 | 972 kB 27.7 MB/s eta 0:00:01\r\u001b[K     |██████████████▋                 | 983 kB 27.7 MB/s eta 0:00:01\r\u001b[K     |██████████████▉                 | 993 kB 27.7 MB/s eta 0:00:01\r\u001b[K     |███████████████                 | 1.0 MB 27.7 MB/s eta 0:00:01\r\u001b[K     |███████████████▏                | 1.0 MB 27.7 MB/s eta 0:00:01\r\u001b[K     |███████████████▎                | 1.0 MB 27.7 MB/s eta 0:00:01\r\u001b[K     |███████████████▍                | 1.0 MB 27.7 MB/s eta 0:00:01\r\u001b[K     |███████████████▋                | 1.0 MB 27.7 MB/s eta 0:00:01\r\u001b[K     |███████████████▊                | 1.1 MB 27.7 MB/s eta 0:00:01\r\u001b[K     |███████████████▉                | 1.1 MB 27.7 MB/s eta 0:00:01\r\u001b[K     |████████████████                | 1.1 MB 27.7 MB/s eta 0:00:01\r\u001b[K     |████████████████▏               | 1.1 MB 27.7 MB/s eta 0:00:01\r\u001b[K     |████████████████▍               | 1.1 MB 27.7 MB/s eta 0:00:01\r\u001b[K     |████████████████▌               | 1.1 MB 27.7 MB/s eta 0:00:01\r\u001b[K     |████████████████▋               | 1.1 MB 27.7 MB/s eta 0:00:01\r\u001b[K     |████████████████▉               | 1.1 MB 27.7 MB/s eta 0:00:01\r\u001b[K     |█████████████████               | 1.1 MB 27.7 MB/s eta 0:00:01\r\u001b[K     |█████████████████               | 1.1 MB 27.7 MB/s eta 0:00:01\r\u001b[K     |█████████████████▎              | 1.2 MB 27.7 MB/s eta 0:00:01\r\u001b[K     |█████████████████▍              | 1.2 MB 27.7 MB/s eta 0:00:01\r\u001b[K     |█████████████████▌              | 1.2 MB 27.7 MB/s eta 0:00:01\r\u001b[K     |█████████████████▊              | 1.2 MB 27.7 MB/s eta 0:00:01\r\u001b[K     |█████████████████▉              | 1.2 MB 27.7 MB/s eta 0:00:01\r\u001b[K     |██████████████████              | 1.2 MB 27.7 MB/s eta 0:00:01\r\u001b[K     |██████████████████▏             | 1.2 MB 27.7 MB/s eta 0:00:01\r\u001b[K     |██████████████████▎             | 1.2 MB 27.7 MB/s eta 0:00:01\r\u001b[K     |██████████████████▌             | 1.2 MB 27.7 MB/s eta 0:00:01\r\u001b[K     |██████████████████▋             | 1.2 MB 27.7 MB/s eta 0:00:01\r\u001b[K     |██████████████████▊             | 1.3 MB 27.7 MB/s eta 0:00:01\r\u001b[K     |███████████████████             | 1.3 MB 27.7 MB/s eta 0:00:01\r\u001b[K     |███████████████████             | 1.3 MB 27.7 MB/s eta 0:00:01\r\u001b[K     |███████████████████▎            | 1.3 MB 27.7 MB/s eta 0:00:01\r\u001b[K     |███████████████████▍            | 1.3 MB 27.7 MB/s eta 0:00:01\r\u001b[K     |███████████████████▌            | 1.3 MB 27.7 MB/s eta 0:00:01\r\u001b[K     |███████████████████▊            | 1.3 MB 27.7 MB/s eta 0:00:01\r\u001b[K     |███████████████████▉            | 1.3 MB 27.7 MB/s eta 0:00:01\r\u001b[K     |████████████████████            | 1.3 MB 27.7 MB/s eta 0:00:01\r\u001b[K     |████████████████████▏           | 1.4 MB 27.7 MB/s eta 0:00:01\r\u001b[K     |████████████████████▎           | 1.4 MB 27.7 MB/s eta 0:00:01\r\u001b[K     |████████████████████▌           | 1.4 MB 27.7 MB/s eta 0:00:01\r\u001b[K     |████████████████████▋           | 1.4 MB 27.7 MB/s eta 0:00:01\r\u001b[K     |████████████████████▊           | 1.4 MB 27.7 MB/s eta 0:00:01\r\u001b[K     |█████████████████████           | 1.4 MB 27.7 MB/s eta 0:00:01\r\u001b[K     |█████████████████████           | 1.4 MB 27.7 MB/s eta 0:00:01\r\u001b[K     |█████████████████████▏          | 1.4 MB 27.7 MB/s eta 0:00:01\r\u001b[K     |█████████████████████▍          | 1.4 MB 27.7 MB/s eta 0:00:01\r\u001b[K     |█████████████████████▌          | 1.4 MB 27.7 MB/s eta 0:00:01\r\u001b[K     |█████████████████████▊          | 1.5 MB 27.7 MB/s eta 0:00:01\r\u001b[K     |█████████████████████▉          | 1.5 MB 27.7 MB/s eta 0:00:01\r\u001b[K     |██████████████████████          | 1.5 MB 27.7 MB/s eta 0:00:01\r\u001b[K     |██████████████████████▏         | 1.5 MB 27.7 MB/s eta 0:00:01\r\u001b[K     |██████████████████████▎         | 1.5 MB 27.7 MB/s eta 0:00:01\r\u001b[K     |██████████████████████▍         | 1.5 MB 27.7 MB/s eta 0:00:01\r\u001b[K     |██████████████████████▋         | 1.5 MB 27.7 MB/s eta 0:00:01\r\u001b[K     |██████████████████████▊         | 1.5 MB 27.7 MB/s eta 0:00:01\r\u001b[K     |███████████████████████         | 1.5 MB 27.7 MB/s eta 0:00:01\r\u001b[K     |███████████████████████         | 1.5 MB 27.7 MB/s eta 0:00:01\r\u001b[K     |███████████████████████▏        | 1.6 MB 27.7 MB/s eta 0:00:01\r\u001b[K     |███████████████████████▍        | 1.6 MB 27.7 MB/s eta 0:00:01\r\u001b[K     |███████████████████████▌        | 1.6 MB 27.7 MB/s eta 0:00:01\r\u001b[K     |███████████████████████▋        | 1.6 MB 27.7 MB/s eta 0:00:01\r\u001b[K     |███████████████████████▉        | 1.6 MB 27.7 MB/s eta 0:00:01\r\u001b[K     |████████████████████████        | 1.6 MB 27.7 MB/s eta 0:00:01\r\u001b[K     |████████████████████████▏       | 1.6 MB 27.7 MB/s eta 0:00:01\r\u001b[K     |████████████████████████▎       | 1.6 MB 27.7 MB/s eta 0:00:01\r\u001b[K     |████████████████████████▍       | 1.6 MB 27.7 MB/s eta 0:00:01\r\u001b[K     |████████████████████████▋       | 1.6 MB 27.7 MB/s eta 0:00:01\r\u001b[K     |████████████████████████▊       | 1.7 MB 27.7 MB/s eta 0:00:01\r\u001b[K     |████████████████████████▉       | 1.7 MB 27.7 MB/s eta 0:00:01\r\u001b[K     |█████████████████████████       | 1.7 MB 27.7 MB/s eta 0:00:01\r\u001b[K     |█████████████████████████▏      | 1.7 MB 27.7 MB/s eta 0:00:01\r\u001b[K     |█████████████████████████▍      | 1.7 MB 27.7 MB/s eta 0:00:01\r\u001b[K     |█████████████████████████▌      | 1.7 MB 27.7 MB/s eta 0:00:01\r\u001b[K     |█████████████████████████▋      | 1.7 MB 27.7 MB/s eta 0:00:01\r\u001b[K     |█████████████████████████▉      | 1.7 MB 27.7 MB/s eta 0:00:01\r\u001b[K     |██████████████████████████      | 1.7 MB 27.7 MB/s eta 0:00:01\r\u001b[K     |██████████████████████████      | 1.8 MB 27.7 MB/s eta 0:00:01\r\u001b[K     |██████████████████████████▎     | 1.8 MB 27.7 MB/s eta 0:00:01\r\u001b[K     |██████████████████████████▍     | 1.8 MB 27.7 MB/s eta 0:00:01\r\u001b[K     |██████████████████████████▋     | 1.8 MB 27.7 MB/s eta 0:00:01\r\u001b[K     |██████████████████████████▊     | 1.8 MB 27.7 MB/s eta 0:00:01\r\u001b[K     |██████████████████████████▉     | 1.8 MB 27.7 MB/s eta 0:00:01\r\u001b[K     |███████████████████████████     | 1.8 MB 27.7 MB/s eta 0:00:01\r\u001b[K     |███████████████████████████▏    | 1.8 MB 27.7 MB/s eta 0:00:01\r\u001b[K     |███████████████████████████▎    | 1.8 MB 27.7 MB/s eta 0:00:01\r\u001b[K     |███████████████████████████▌    | 1.8 MB 27.7 MB/s eta 0:00:01\r\u001b[K     |███████████████████████████▋    | 1.9 MB 27.7 MB/s eta 0:00:01\r\u001b[K     |███████████████████████████▉    | 1.9 MB 27.7 MB/s eta 0:00:01\r\u001b[K     |████████████████████████████    | 1.9 MB 27.7 MB/s eta 0:00:01\r\u001b[K     |████████████████████████████    | 1.9 MB 27.7 MB/s eta 0:00:01\r\u001b[K     |████████████████████████████▎   | 1.9 MB 27.7 MB/s eta 0:00:01\r\u001b[K     |████████████████████████████▍   | 1.9 MB 27.7 MB/s eta 0:00:01\r\u001b[K     |████████████████████████████▌   | 1.9 MB 27.7 MB/s eta 0:00:01\r\u001b[K     |████████████████████████████▊   | 1.9 MB 27.7 MB/s eta 0:00:01\r\u001b[K     |████████████████████████████▉   | 1.9 MB 27.7 MB/s eta 0:00:01\r\u001b[K     |█████████████████████████████   | 1.9 MB 27.7 MB/s eta 0:00:01\r\u001b[K     |█████████████████████████████▏  | 2.0 MB 27.7 MB/s eta 0:00:01\r\u001b[K     |█████████████████████████████▎  | 2.0 MB 27.7 MB/s eta 0:00:01\r\u001b[K     |█████████████████████████████▌  | 2.0 MB 27.7 MB/s eta 0:00:01\r\u001b[K     |█████████████████████████████▋  | 2.0 MB 27.7 MB/s eta 0:00:01\r\u001b[K     |█████████████████████████████▊  | 2.0 MB 27.7 MB/s eta 0:00:01\r\u001b[K     |██████████████████████████████  | 2.0 MB 27.7 MB/s eta 0:00:01\r\u001b[K     |██████████████████████████████  | 2.0 MB 27.7 MB/s eta 0:00:01\r\u001b[K     |██████████████████████████████▎ | 2.0 MB 27.7 MB/s eta 0:00:01\r\u001b[K     |██████████████████████████████▍ | 2.0 MB 27.7 MB/s eta 0:00:01\r\u001b[K     |██████████████████████████████▌ | 2.0 MB 27.7 MB/s eta 0:00:01\r\u001b[K     |██████████████████████████████▊ | 2.1 MB 27.7 MB/s eta 0:00:01\r\u001b[K     |██████████████████████████████▉ | 2.1 MB 27.7 MB/s eta 0:00:01\r\u001b[K     |███████████████████████████████ | 2.1 MB 27.7 MB/s eta 0:00:01\r\u001b[K     |███████████████████████████████▏| 2.1 MB 27.7 MB/s eta 0:00:01\r\u001b[K     |███████████████████████████████▎| 2.1 MB 27.7 MB/s eta 0:00:01\r\u001b[K     |███████████████████████████████▌| 2.1 MB 27.7 MB/s eta 0:00:01\r\u001b[K     |███████████████████████████████▋| 2.1 MB 27.7 MB/s eta 0:00:01\r\u001b[K     |███████████████████████████████▊| 2.1 MB 27.7 MB/s eta 0:00:01\r\u001b[K     |████████████████████████████████| 2.1 MB 27.7 MB/s eta 0:00:01\r\u001b[K     |████████████████████████████████| 2.1 MB 27.7 MB/s \n",
            "\u001b[?25hRequirement already satisfied: tqdm>=4.27 in /usr/local/lib/python3.7/dist-packages (from transformers==4.5.0) (4.64.0)\n",
            "Collecting tokenizers<0.11,>=0.10.1\n",
            "  Downloading tokenizers-0.10.3-cp37-cp37m-manylinux_2_5_x86_64.manylinux1_x86_64.manylinux_2_12_x86_64.manylinux2010_x86_64.whl (3.3 MB)\n",
            "\u001b[K     |████████████████████████████████| 3.3 MB 72.5 MB/s \n",
            "\u001b[?25hRequirement already satisfied: regex!=2019.12.17 in /usr/local/lib/python3.7/dist-packages (from transformers==4.5.0) (2019.12.20)\n",
            "Requirement already satisfied: requests in /usr/local/lib/python3.7/dist-packages (from transformers==4.5.0) (2.23.0)\n",
            "Requirement already satisfied: numpy>=1.17 in /usr/local/lib/python3.7/dist-packages (from transformers==4.5.0) (1.21.6)\n",
            "Requirement already satisfied: filelock in /usr/local/lib/python3.7/dist-packages (from transformers==4.5.0) (3.6.0)\n",
            "Collecting sacremoses\n",
            "  Downloading sacremoses-0.0.49-py3-none-any.whl (895 kB)\n",
            "\u001b[K     |████████████████████████████████| 895 kB 44.2 MB/s \n",
            "\u001b[?25hRequirement already satisfied: packaging in /usr/local/lib/python3.7/dist-packages (from transformers==4.5.0) (21.3)\n",
            "Requirement already satisfied: importlib-metadata in /usr/local/lib/python3.7/dist-packages (from transformers==4.5.0) (4.11.3)\n",
            "Requirement already satisfied: typing-extensions>=3.6.4 in /usr/local/lib/python3.7/dist-packages (from importlib-metadata->transformers==4.5.0) (4.2.0)\n",
            "Requirement already satisfied: zipp>=0.5 in /usr/local/lib/python3.7/dist-packages (from importlib-metadata->transformers==4.5.0) (3.8.0)\n",
            "Requirement already satisfied: pyparsing!=3.0.5,>=2.0.2 in /usr/local/lib/python3.7/dist-packages (from packaging->transformers==4.5.0) (3.0.8)\n",
            "Requirement already satisfied: idna<3,>=2.5 in /usr/local/lib/python3.7/dist-packages (from requests->transformers==4.5.0) (2.10)\n",
            "Requirement already satisfied: urllib3!=1.25.0,!=1.25.1,<1.26,>=1.21.1 in /usr/local/lib/python3.7/dist-packages (from requests->transformers==4.5.0) (1.24.3)\n",
            "Requirement already satisfied: certifi>=2017.4.17 in /usr/local/lib/python3.7/dist-packages (from requests->transformers==4.5.0) (2021.10.8)\n",
            "Requirement already satisfied: chardet<4,>=3.0.2 in /usr/local/lib/python3.7/dist-packages (from requests->transformers==4.5.0) (3.0.4)\n",
            "Requirement already satisfied: joblib in /usr/local/lib/python3.7/dist-packages (from sacremoses->transformers==4.5.0) (1.1.0)\n",
            "Requirement already satisfied: click in /usr/local/lib/python3.7/dist-packages (from sacremoses->transformers==4.5.0) (7.1.2)\n",
            "Requirement already satisfied: six in /usr/local/lib/python3.7/dist-packages (from sacremoses->transformers==4.5.0) (1.15.0)\n",
            "Installing collected packages: tokenizers, sacremoses, transformers\n",
            "Successfully installed sacremoses-0.0.49 tokenizers-0.10.3 transformers-4.5.0\n"
          ]
        }
      ],
      "source": [
        "# You are allowed to change version     of transformers or use other toolkits\n",
        "!pip install transformers==4.5.0"
      ]
    },
    {
      "cell_type": "markdown",
      "metadata": {
        "id": "8dKM4yCh4LI_"
      },
      "source": [
        "## Import Packages"
      ]
    },
    {
      "cell_type": "code",
      "execution_count": 1,
      "metadata": {
        "id": "WOTHHtWJoahe",
        "vscode": {
          "languageId": "python"
        }
      },
      "outputs": [],
      "source": [
        "import json\n",
        "import numpy as np\n",
        "import random\n",
        "import torch\n",
        "from torch.utils.data import DataLoader, Dataset \n",
        "from transformers import AdamW, BertForQuestionAnswering, BertTokenizerFast, get_linear_schedule_with_warmup\n",
        "\n",
        "from tqdm.auto import tqdm\n",
        "\n",
        "device = \"cuda\" if torch.cuda.is_available() else \"cpu\"\n",
        "\n",
        "# Fix random seed for reproducibility\n",
        "def same_seeds(seed):\n",
        "\t  torch.manual_seed(seed)\n",
        "\t  if torch.cuda.is_available():\n",
        "\t\t    torch.cuda.manual_seed(seed)\n",
        "\t\t    torch.cuda.manual_seed_all(seed)\n",
        "\t  np.random.seed(seed)\n",
        "\t  random.seed(seed)\n",
        "\t  torch.backends.cudnn.benchmark = False\n",
        "\t  torch.backends.cudnn.deterministic = True\n",
        "same_seeds(0)"
      ]
    },
    {
      "cell_type": "code",
      "execution_count": 2,
      "metadata": {
        "colab": {
          "base_uri": "https://localhost:8080/"
        },
        "id": "7pBtSZP1SKQO",
        "outputId": "19369fd5-153a-4a2c-ba34-6a0c72743c25",
        "vscode": {
          "languageId": "python"
        }
      },
      "outputs": [
        {
          "output_type": "stream",
          "name": "stdout",
          "text": [
            "Requirement already satisfied: accelerate==0.2.0 in /usr/local/lib/python3.7/dist-packages (0.2.0)\n",
            "Requirement already satisfied: torch>=1.4.0 in /usr/local/lib/python3.7/dist-packages (from accelerate==0.2.0) (1.11.0+cu113)\n",
            "Requirement already satisfied: pyaml>=20.4.0 in /usr/local/lib/python3.7/dist-packages (from accelerate==0.2.0) (21.10.1)\n",
            "Requirement already satisfied: PyYAML in /usr/local/lib/python3.7/dist-packages (from pyaml>=20.4.0->accelerate==0.2.0) (3.13)\n",
            "Requirement already satisfied: typing-extensions in /usr/local/lib/python3.7/dist-packages (from torch>=1.4.0->accelerate==0.2.0) (4.2.0)\n"
          ]
        }
      ],
      "source": [
        "# Change \"fp16_training\" to True to support automatic mixed precision training (fp16)\t\n",
        "# GPU 在不需要這麼高精度的運算時可以轉換成 float_16（加速）\n",
        "fp16_training = True\n",
        "\n",
        "if fp16_training:\n",
        "    !pip install accelerate==0.2.0\n",
        "    from accelerate import Accelerator\n",
        "    accelerator = Accelerator(fp16=True)\n",
        "    device = accelerator.device\n",
        "\n",
        "# Documentation for the toolkit:  https://huggingface.co/docs/accelerate/"
      ]
    },
    {
      "cell_type": "code",
      "execution_count": 3,
      "metadata": {
        "colab": {
          "base_uri": "https://localhost:8080/"
        },
        "id": "NGnpF_hf8yAJ",
        "outputId": "967c1c50-f605-40e7-9c0c-cbca06cbdaec",
        "vscode": {
          "languageId": "python"
        }
      },
      "outputs": [
        {
          "output_type": "stream",
          "name": "stdout",
          "text": [
            "Drive already mounted at /content/drive; to attempt to forcibly remount, call drive.mount(\"/content/drive\", force_remount=True).\n"
          ]
        }
      ],
      "source": [
        "from google.colab import drive\n",
        "drive.mount('/content/drive')"
      ]
    },
    {
      "cell_type": "markdown",
      "metadata": {
        "id": "2YgXHuVLp_6j"
      },
      "source": [
        "## Load Model and Tokenizer\n",
        "\n",
        "\n",
        "\n",
        "\n",
        " "
      ]
    },
    {
      "cell_type": "code",
      "execution_count": 4,
      "metadata": {
        "id": "xyBCYGjAp3ym",
        "vscode": {
          "languageId": "python"
        }
      },
      "outputs": [],
      "source": [
        "model = BertForQuestionAnswering.from_pretrained(\"luhua/chinese_pretrain_mrc_macbert_large\").to(device)\n",
        "tokenizer = BertTokenizerFast.from_pretrained(\"luhua/chinese_pretrain_mrc_macbert_large\")\n",
        "\n",
        "# hfl/chinese-macbert-base > hfl/chinese-roberta-wwm-ext(0.76) > hfl/chinese-bert-wwm(0.741)\n",
        "# You can safely ignore the warning message (it pops up because new prediction heads for QA are initialized randomly)"
      ]
    },
    {
      "cell_type": "markdown",
      "metadata": {
        "id": "3Td-GTmk5OW4"
      },
      "source": [
        "## Read Data\n",
        "\n",
        "- Training set: 31690 QA pairs\n",
        "- Dev set: 4131  QA pairs\n",
        "- Test set: 4957  QA pairs\n",
        "\n",
        "- {train/dev/test}_questions:\t\n",
        "  - List of dicts with the following keys:\n",
        "   - id (int)\n",
        "   - paragraph_id (int)\n",
        "   - question_text (string)\n",
        "   - answer_text (string)\n",
        "   - answer_start (int)\n",
        "   - answer_end (int)\n",
        "- {train/dev/test}_paragraphs: \n",
        "  - List of strings\n",
        "  - paragraph_ids in questions correspond to indexs in paragraphs\n",
        "  - A paragraph may be used by several questions "
      ]
    },
    {
      "cell_type": "code",
      "execution_count": 5,
      "metadata": {
        "id": "NvX7hlepogvu",
        "vscode": {
          "languageId": "python"
        }
      },
      "outputs": [],
      "source": [
        "def read_data(file):\n",
        "    with open(file, 'r', encoding=\"utf-8\") as reader:\n",
        "        data = json.load(reader)\n",
        "    return data[\"questions\"], data[\"paragraphs\"]\n",
        "\n",
        "train_questions, train_paragraphs = read_data(\"hw7_train.json\")\n",
        "dev_questions, dev_paragraphs = read_data(\"hw7_dev.json\")\n",
        "test_questions, test_paragraphs = read_data(\"hw7_test.json\")"
      ]
    },
    {
      "cell_type": "markdown",
      "metadata": {
        "id": "Fm0rpTHq0e4N"
      },
      "source": [
        "## Tokenize Data"
      ]
    },
    {
      "cell_type": "code",
      "execution_count": 6,
      "metadata": {
        "id": "rTZ6B70Hoxie",
        "vscode": {
          "languageId": "python"
        }
      },
      "outputs": [],
      "source": [
        "# Tokenize questions and paragraphs separately\n",
        "# 「add_special_tokens」 is set to False since special tokens will be added when tokenized questions and paragraphs are combined in datset __getitem__ \n",
        "\n",
        "train_questions_tokenized = tokenizer([train_question[\"question_text\"] for train_question in train_questions], add_special_tokens=False)\n",
        "dev_questions_tokenized = tokenizer([dev_question[\"question_text\"] for dev_question in dev_questions], add_special_tokens=False)\n",
        "test_questions_tokenized = tokenizer([test_question[\"question_text\"] for test_question in test_questions], add_special_tokens=False) \n",
        "\n",
        "train_paragraphs_tokenized = tokenizer(train_paragraphs, add_special_tokens=False, return_offsets_mapping=True)\n",
        "dev_paragraphs_tokenized = tokenizer(dev_paragraphs, add_special_tokens=False, return_offsets_mapping=True)\n",
        "test_paragraphs_tokenized = tokenizer(test_paragraphs, add_special_tokens=False, return_offsets_mapping=True)\n",
        "# You can safely ignore the warning message as tokenized sequences will be futher processed in datset __getitem__ before passing to model\n",
        "\n",
        "dev_paragraphs = [i.replace(' ','✔').replace('\\u200b','✦').replace('\\u200e', '☺').replace('\\u3000', '☆').replace('#','●') for i in dev_paragraphs]\n",
        "test_paragraphs = [i.replace(' ','✔').replace('\\u200b','✦').replace('\\u200e', '☺').replace('\\u3000', '☆').replace('#','●') for i in test_paragraphs]\n"
      ]
    },
    {
      "cell_type": "markdown",
      "metadata": {
        "id": "Ws8c8_4d5UCI"
      },
      "source": [
        "## Dataset and Dataloader"
      ]
    },
    {
      "cell_type": "code",
      "execution_count": 7,
      "metadata": {
        "id": "Xjooag-Swnuh",
        "vscode": {
          "languageId": "python"
        }
      },
      "outputs": [],
      "source": [
        "import random\n",
        "\n",
        "class QA_Dataset(Dataset):\n",
        "    def __init__(self, split, questions, tokenized_questions, tokenized_paragraphs):\n",
        "        self.split = split\n",
        "        self.questions = questions\n",
        "        self.tokenized_questions = tokenized_questions\n",
        "        self.tokenized_paragraphs = tokenized_paragraphs\n",
        "        self.max_question_len = 40\n",
        "        self.max_paragraph_len = 350\n",
        "        self.counter = 0\n",
        "        \n",
        "        ##### TODO: Change value of doc_stride #####\n",
        "        # self.doc_stride = 150\n",
        "        self.doc_stride = 64\n",
        "        # 60 => 0.743\n",
        "        # 75 => 0.742\n",
        "        # 35 => 0.747\n",
        "\n",
        "        # Input sequence length = [CLS] + question + [SEP] + paragraph + [SEP]\n",
        "        self.max_seq_len = 1 + self.max_question_len + 1 + self.max_paragraph_len + 1\n",
        "\n",
        "    def __len__(self):\n",
        "        return len(self.questions)\n",
        "\n",
        "    def __getitem__(self, idx):\n",
        "        question = self.questions[idx]\n",
        "        tokenized_question = self.tokenized_questions[idx]\n",
        "        tokenized_paragraph = self.tokenized_paragraphs[question[\"paragraph_id\"]]\n",
        "        self.counter = self.counter + 1\n",
        "        ##### TODO: Preprocessing #####\n",
        "        # Hint: How to prevent model from learning something it should not learn\n",
        "        # input_id, token, attention_mask\n",
        "        # 每次 random 一個數字當作 offset\n",
        "        if self.split == \"train\":\n",
        "            # Convert answer's start/end positions in paragraph_text to start/end positions in tokenized_paragraph  \n",
        "            answer_start_token = tokenized_paragraph.char_to_token(question[\"answer_start\"])\n",
        "            answer_end_token = tokenized_paragraph.char_to_token(question[\"answer_end\"])\n",
        "            # A single window is obtained by slicing the portion of paragraph containing the answer\n",
        "            offset = random.randint(0, 349-(answer_end_token - answer_start_token))\n",
        "            # 在 0（起始）與 \n",
        "            # mid 往左二分之一的最大 paragraph 長度（一般情況）、總長-最大 paragraph（最後）=> 兩者較小者\n",
        "            # 上述兩者中取最大值\n",
        "            if(self.counter % 2) == 0:\n",
        "              paragraph_start = max(0, min(answer_start_token - (offset), len(tokenized_paragraph) - self.max_paragraph_len))\n",
        "              paragraph_end = min(paragraph_start + self.max_paragraph_len, len(tokenized_paragraph))\n",
        "            else:\n",
        "              paragraph_end = min(len(tokenized_paragraph), max(answer_end_token + (offset), 0 + self.max_paragraph_len))\n",
        "              paragraph_start = max(0, paragraph_end - self.max_paragraph_len)\n",
        "            # print(paragraph_start, answer_start_token, answer_end_token, paragraph_end)\n",
        "\n",
        "            # Slice question/paragraph and add special tokens (101: CLS, 102: SEP)\n",
        "            input_ids_question = [101] + tokenized_question.ids[:self.max_question_len] + [102] \n",
        "            input_ids_paragraph = tokenized_paragraph.ids[paragraph_start : paragraph_end] + [102]\t\t\n",
        "            \n",
        "            # Convert answer's start/end positions in tokenized_paragraph to start/end positions in the window  \n",
        "            answer_start_token += len(input_ids_question) - paragraph_start\n",
        "            answer_end_token += len(input_ids_question) - paragraph_start\n",
        "            \n",
        "            # Pad sequence and obtain inputs to model \n",
        "            input_ids, token_type_ids, attention_mask = self.padding(input_ids_question, input_ids_paragraph)\n",
        "            return torch.tensor(input_ids), torch.tensor(token_type_ids), torch.tensor(attention_mask), answer_start_token, answer_end_token\n",
        "\n",
        "        # Validation/Testing\n",
        "        else:\n",
        "            input_ids_list, token_type_ids_list, attention_mask_list = [], [], []\n",
        "            \n",
        "            # Paragraph is split into several windows, each with start positions separated by step \"doc_stride\"\n",
        "            for i in range(0, len(tokenized_paragraph), self.doc_stride):\n",
        "                \n",
        "                # Slice question/paragraph and add special tokens (101: CLS, 102: SEP)\n",
        "                input_ids_question = [101] + tokenized_question.ids[:self.max_question_len] + [102]\n",
        "                input_ids_paragraph = tokenized_paragraph.ids[i : i + self.max_paragraph_len] + [102]\n",
        "                \n",
        "                # Pad sequence and obtain inputs to model\n",
        "                input_ids, token_type_ids, attention_mask = self.padding(input_ids_question, input_ids_paragraph)\n",
        "                \n",
        "                input_ids_list.append(input_ids)\n",
        "                token_type_ids_list.append(token_type_ids)\n",
        "                attention_mask_list.append(attention_mask)\n",
        "            \n",
        "            return torch.tensor(input_ids_list), torch.tensor(token_type_ids_list), torch.tensor(attention_mask_list)\n",
        "\n",
        "    def padding(self, input_ids_question, input_ids_paragraph):\n",
        "        # Pad zeros if sequence length is shorter than max_seq_len\n",
        "        padding_len = self.max_seq_len - len(input_ids_question) - len(input_ids_paragraph)\n",
        "        # Indices of input sequence tokens in the vocabulary\n",
        "        input_ids = input_ids_question + input_ids_paragraph + [0] * padding_len\n",
        "        # Segment token indices to indicate first and second portions of the inputs. Indices are selected in [0, 1]\n",
        "        token_type_ids = [0] * len(input_ids_question) + [1] * len(input_ids_paragraph) + [0] * padding_len\n",
        "        # Mask to avoid performing attention on padding token indices. Mask values selected in [0, 1]\n",
        "        attention_mask = [1] * (len(input_ids_question) + len(input_ids_paragraph)) + [0] * padding_len\n",
        "        \n",
        "        return input_ids, token_type_ids, attention_mask\n",
        "\n",
        "\n",
        "train_set = QA_Dataset(\"train\", train_questions, train_questions_tokenized, train_paragraphs_tokenized)\n",
        "dev_set = QA_Dataset(\"dev\", dev_questions, dev_questions_tokenized, dev_paragraphs_tokenized)\n",
        "test_set = QA_Dataset(\"test\", test_questions, test_questions_tokenized, test_paragraphs_tokenized)\n",
        "\n",
        "train_batch_size = 8\n",
        "\n",
        "# Note: Do NOT change batch size of dev_loader / test_loader !\n",
        "# Although batch size=1, it is actually a batch consisting of several windows from the same QA pair\n",
        "train_loader = DataLoader(train_set, batch_size=train_batch_size, shuffle=True, pin_memory=True)\n",
        "dev_loader = DataLoader(dev_set, batch_size=1, shuffle=False, pin_memory=True)\n",
        "test_loader = DataLoader(test_set, batch_size=1, shuffle=False, pin_memory=True)"
      ]
    },
    {
      "cell_type": "markdown",
      "metadata": {
        "id": "5_H1kqhR8CdM"
      },
      "source": [
        "## Function for Evaluation"
      ]
    },
    {
      "cell_type": "code",
      "execution_count": 8,
      "metadata": {
        "id": "SqeA3PLPxOHu",
        "vscode": {
          "languageId": "python"
        }
      },
      "outputs": [],
      "source": [
        "def evaluate(data, output, paragraph_index, doc_stride, is_test, n_best):\n",
        "    ##### TODO: Postprocessing #####\n",
        "    # There is a bug and room for improvement in postprocessing \n",
        "    # Hint: Open your prediction file to see what is wrong \n",
        "    # check 是否存在 start index 比 end index 更後面的問題\n",
        "\n",
        "    # \n",
        "\n",
        "    answer = ''\n",
        "    max_prob = float('-inf')\n",
        "    num_of_windows = data[0].shape[1]\n",
        "    start_index_in_paragraph = 0\n",
        "    end_index_in_paragraph = 0\n",
        "    best_of_n_best_prob = -np.inf\n",
        "\n",
        "    for k in range(num_of_windows):\n",
        "        # Obtain answer by choosing the most probable start position / end position\n",
        "\n",
        "        mask = data[1][0][k].bool() &  data[2][0][k].bool() # token type & attention mask\n",
        "        masked_output_start = torch.masked_select(output.start_logits[k], mask.to(device))[:-1] # -1 is [SEP]\n",
        "        # print(f'start: {_get_best_indexes(masked_output_start, 5)}')\n",
        "        n_best_start_index = _get_best_indexes(masked_output_start, n_best)\n",
        "        # start_prob, start_index = torch.max((masked_output_start), dim=0)\n",
        "        # print(start_index)\n",
        "        masked_output_end = torch.masked_select(output.end_logits[k], mask.to(device))[:-1] # -1 is [SEP]\n",
        "        # for i in _get_best_indexes(masked_output_start, 5):\n",
        "        #   print(masked_output_start[i])\n",
        "        n_best_end_index = _get_best_indexes(masked_output_end, n_best)\n",
        "        # print(f'end: {_get_best_indexes(masked_output_end, 5)}')\n",
        "        # end_prob, end_index = torch.max((masked_output_end), dim=0)\n",
        "        # print(end_index)\n",
        "\n",
        "        # prob = start_prob + end_prob\n",
        "        masked_data = torch.masked_select(data[0][0][k], mask)[:-1]\n",
        "        for i in n_best_start_index:\n",
        "          for j in n_best_end_index:\n",
        "            if i > j :\n",
        "              continue\n",
        "            elif ((masked_output_start[i] + masked_output_end[j]) > best_of_n_best_prob) & ((j - i)<=40):\n",
        "              best_of_n_best_prob = masked_output_start[i] + masked_output_end[j]\n",
        "              start_index_in_paragraph = i + doc_stride*k\n",
        "              end_index_in_paragraph = j + doc_stride*k\n",
        "              answer = tokenizer.decode(masked_data[i : j + 1])\n",
        "              # print(i, j)\n",
        "\n",
        "        \n",
        "        # Replace answer if calculated probability is larger than previous windows\n",
        "        # done!!\n",
        "        # if (prob > max_prob) & (start_index < end_index) & ((end_index - start_index)<=40):\n",
        "        #     max_prob = prob\n",
        "        #     start_index_in_paragraph = start_index + doc_stride*k\n",
        "        #     end_index_in_paragraph = end_index + doc_stride*k\n",
        "        #     # Convert tokens to chars (e.g. [1920, 7032] --> \"大 金\")\n",
        "        #     answer = tokenizer.decode(masked_data[start_index : end_index + 1])\n",
        "        #     print(start_index, end_index)\n",
        "\n",
        "    if ('[UNK]' in answer) & (is_test == False):\n",
        "      # print(tokenizer.decode(data[0][0][global_k]).replace(' ', ''))\n",
        "      # print(dev_paragraphs[paragraph_index])\n",
        "      # print(f'original answer: {answer}')\n",
        "      # print(start_index_in_paragraph)\n",
        "      # print(end_index_in_paragraph)\n",
        "      # print(dev_paragraphs_tokenized['offset_mapping'][paragraph_index][start_index_in_paragraph])\n",
        "      # print(dev_paragraphs_tokenized['offset_mapping'][paragraph_index][end_index_in_paragraph])\n",
        "      start = dev_paragraphs_tokenized['offset_mapping'][paragraph_index][start_index_in_paragraph][0]\n",
        "      end = dev_paragraphs_tokenized['offset_mapping'][paragraph_index][end_index_in_paragraph][1]\n",
        "      answer = dev_paragraphs[paragraph_index][start:end].replace('✔', ' ').replace('✦','\\u200b').replace('☺','\\u200e').replace('☆','\\u3000').replace('●','#')\n",
        "      # print(f'final answer: {dev_paragraphs[paragraph_index][start:end]}')\n",
        "    elif ('[UNK]' in answer) & (is_test == True):\n",
        "      # print(f'original answer: {answer}')\n",
        "      # print(start_index_in_paragraph)\n",
        "      # print(end_index_in_paragraph)\n",
        "      # print(test_paragraphs_tokenized['offset_mapping'][paragraph_index][start_index_in_paragraph])\n",
        "      # print(test_paragraphs_tokenized['offset_mapping'][paragraph_index][end_index_in_paragraph])\n",
        "      start = test_paragraphs_tokenized['offset_mapping'][paragraph_index][start_index_in_paragraph][0]\n",
        "      end = test_paragraphs_tokenized['offset_mapping'][paragraph_index][end_index_in_paragraph][1]\n",
        "      answer = test_paragraphs[paragraph_index][start:end].replace('✔', ' ').replace('✦','\\u200b').replace('☺','\\u200e').replace('☆','\\u3000').replace('●','#')\n",
        "      # print(f'final answer: {test_paragraphs[paragraph_index][start:end]}')\n",
        "\n",
        "\n",
        "    # print(f'final answer: {answer}')\n",
        "    # Remove spaces in answer (e.g. \"大 金\" --> \"大金\")\n",
        "    if ('「' == answer[0]) & ('」' != answer[-1]):\n",
        "      answer = answer + '」'\n",
        "    if ('」' == answer[-1]) & ('「' != answer[0]):\n",
        "      answer = '「' + answer\n",
        "    if ('『' == answer[0]) & ('』' != answer[-1]):\n",
        "      answer = answer + '』'\n",
        "    if ('』' == answer[-1]) & ('『' != answer[0]):\n",
        "      answer = '『' + answer\n",
        "    \n",
        "    return answer.replace(' ','')\n",
        "\n",
        "    \n",
        "\n"
      ]
    },
    {
      "cell_type": "code",
      "execution_count": 9,
      "metadata": {
        "id": "7R444eLUnN5t",
        "vscode": {
          "languageId": "python"
        }
      },
      "outputs": [],
      "source": [
        "def _get_best_indexes(logits, n_best_size):\n",
        "    \"\"\"Get the n-best logits from a list.\"\"\"\n",
        "    index_and_score = sorted(enumerate(logits), key=lambda x: x[1], reverse=True)\n",
        "\n",
        "    best_indexes = []\n",
        "    for i in range(len(index_and_score)):\n",
        "        if i >= n_best_size:\n",
        "            break\n",
        "        best_indexes.append(index_and_score[i][0])\n",
        "    return best_indexes\n"
      ]
    },
    {
      "cell_type": "markdown",
      "metadata": {
        "id": "rzHQit6eMnKG"
      },
      "source": [
        "## Training"
      ]
    },
    {
      "cell_type": "code",
      "execution_count": 10,
      "metadata": {
        "colab": {
          "base_uri": "https://localhost:8080/",
          "height": 1000,
          "referenced_widgets": [
            "eb208cd20fa34475a0638ddab2221716",
            "084fe2b3ee394fcc8b03cac72c602c48",
            "0c11288f5c1e4b6c87ae57ec91c0a186",
            "050d534be7584aeea2ebac1b8a9f6462",
            "6f6e184da30c4b2f914748db03e66686",
            "30ad7d3f94fa42cd9c5f6f7700127991",
            "3338805fcdf1426dbbd512c36e35dcc0",
            "3f043c7762cd41d99ffd13122a8f30ae",
            "bdb12e5652ca4951818fdf2d83c17eb6",
            "90f8f2daf4204c5bbe8177d1c425dd9d",
            "acaaaa0f8b7f4848bef5e6d529a49deb",
            "aeb24a8ef1154955a1e1f739932549cc",
            "8a9fc7d64cf04a478351f2ffa120e15a",
            "ab0cd5f6fc6c449c93c431d9f1e11d59",
            "ef96c388fa134fe1b9c39fe4bc8e8ab8",
            "4cc786ca6f6b49ef8da85a3e3d6da678",
            "02f6efa75dd745b3adf0a35ce84907b4",
            "abfbf482f0f748929a83d061bf39553f",
            "097c7d785ceb44558336db58c365d5f3",
            "db0cec9b804f4c4cb9a0b8f681100f22",
            "f1c7201b01114fa7a5038a6588dbf5c4",
            "98eeac1277504c1d86c0e4baaf2369e8",
            "3c5e2179ca354fbea7ede76b3b005c1e",
            "5e817512c6da48de9f42b61a98415fd1",
            "ee48e7c05f2041a6849b9bd7df3438ef",
            "f5d9d8fd6e5244ae95922a72583afcb5",
            "80319d8de8c44cba8ccec0e5d53b81fe",
            "71f880721b654309b1fc71f9a5649fee",
            "ef428c826baa42d0bca1c61116649e9f",
            "279444be92dd4037a3c378e1a702182c",
            "ad57936ab9884e78a656bec98db256be",
            "61a895630c3e400e90525092f544e186",
            "6abc28d5fd654e75ab37facb30d9d5b0"
          ]
        },
        "id": "3Q-B6ka7xoCM",
        "outputId": "38419cde-8318-4f95-ae4d-efec96319520",
        "vscode": {
          "languageId": "python"
        }
      },
      "outputs": [
        {
          "output_type": "stream",
          "name": "stdout",
          "text": [
            "Start Training ...\n"
          ]
        },
        {
          "output_type": "display_data",
          "data": {
            "text/plain": [
              "  0%|          | 0/3962 [00:00<?, ?it/s]"
            ],
            "application/vnd.jupyter.widget-view+json": {
              "version_major": 2,
              "version_minor": 0,
              "model_id": "eb208cd20fa34475a0638ddab2221716"
            }
          },
          "metadata": {}
        },
        {
          "output_type": "stream",
          "name": "stderr",
          "text": [
            "/usr/local/lib/python3.7/dist-packages/torch/optim/lr_scheduler.py:136: UserWarning: Detected call of `lr_scheduler.step()` before `optimizer.step()`. In PyTorch 1.1.0 and later, you should call them in the opposite order: `optimizer.step()` before `lr_scheduler.step()`.  Failure to do this will result in PyTorch skipping the first value of the learning rate schedule. See more details at https://pytorch.org/docs/stable/optim.html#how-to-adjust-learning-rate\n",
            "  \"https://pytorch.org/docs/stable/optim.html#how-to-adjust-learning-rate\", UserWarning)\n"
          ]
        },
        {
          "output_type": "stream",
          "name": "stdout",
          "text": [
            "Epoch 1 | Step 200 | loss = 0.977, acc = 0.665\n",
            "Epoch 1 | Step 400 | loss = 0.618, acc = 0.748\n",
            "Epoch 1 | Step 600 | loss = 0.570, acc = 0.752\n",
            "Epoch 1 | Step 800 | loss = 0.541, acc = 0.777\n",
            "Epoch 1 | Step 1000 | loss = 0.500, acc = 0.797\n",
            "Epoch 1 | Step 1200 | loss = 0.502, acc = 0.795\n",
            "Epoch 1 | Step 1400 | loss = 0.547, acc = 0.773\n",
            "Epoch 1 | Step 1600 | loss = 0.484, acc = 0.800\n",
            "Epoch 1 | Step 1800 | loss = 0.480, acc = 0.808\n",
            "Epoch 1 | Step 2000 | loss = 0.435, acc = 0.817\n",
            "Epoch 1 | Step 2200 | loss = 0.455, acc = 0.814\n",
            "Epoch 1 | Step 2400 | loss = 0.497, acc = 0.808\n",
            "Epoch 1 | Step 2600 | loss = 0.516, acc = 0.803\n",
            "Epoch 1 | Step 2800 | loss = 0.454, acc = 0.812\n",
            "Epoch 1 | Step 3000 | loss = 0.462, acc = 0.807\n",
            "Epoch 1 | Step 3200 | loss = 0.458, acc = 0.824\n",
            "Epoch 1 | Step 3400 | loss = 0.415, acc = 0.832\n",
            "Epoch 1 | Step 3600 | loss = 0.428, acc = 0.808\n",
            "Epoch 1 | Step 3800 | loss = 0.437, acc = 0.836\n"
          ]
        },
        {
          "output_type": "display_data",
          "data": {
            "text/plain": [
              "  0%|          | 0/3962 [00:00<?, ?it/s]"
            ],
            "application/vnd.jupyter.widget-view+json": {
              "version_major": 2,
              "version_minor": 0,
              "model_id": "aeb24a8ef1154955a1e1f739932549cc"
            }
          },
          "metadata": {}
        },
        {
          "output_type": "stream",
          "name": "stdout",
          "text": [
            "Epoch 2 | Step 200 | loss = 0.253, acc = 0.880\n",
            "Epoch 2 | Step 400 | loss = 0.196, acc = 0.905\n",
            "Epoch 2 | Step 600 | loss = 0.216, acc = 0.891\n",
            "Epoch 2 | Step 800 | loss = 0.216, acc = 0.889\n",
            "Epoch 2 | Step 1000 | loss = 0.194, acc = 0.901\n",
            "Epoch 2 | Step 1200 | loss = 0.210, acc = 0.896\n",
            "Epoch 2 | Step 1400 | loss = 0.186, acc = 0.916\n",
            "Epoch 2 | Step 1600 | loss = 0.215, acc = 0.897\n",
            "Epoch 2 | Step 1800 | loss = 0.225, acc = 0.889\n",
            "Epoch 2 | Step 2000 | loss = 0.206, acc = 0.893\n",
            "Epoch 2 | Step 2200 | loss = 0.193, acc = 0.917\n",
            "Epoch 2 | Step 2400 | loss = 0.221, acc = 0.896\n",
            "Epoch 2 | Step 2600 | loss = 0.209, acc = 0.899\n",
            "Epoch 2 | Step 2800 | loss = 0.195, acc = 0.902\n",
            "Epoch 2 | Step 3000 | loss = 0.185, acc = 0.917\n",
            "Epoch 2 | Step 3200 | loss = 0.204, acc = 0.901\n",
            "Epoch 2 | Step 3400 | loss = 0.204, acc = 0.915\n",
            "Epoch 2 | Step 3600 | loss = 0.179, acc = 0.918\n",
            "Epoch 2 | Step 3800 | loss = 0.194, acc = 0.904\n"
          ]
        },
        {
          "output_type": "display_data",
          "data": {
            "text/plain": [
              "  0%|          | 0/3962 [00:00<?, ?it/s]"
            ],
            "application/vnd.jupyter.widget-view+json": {
              "version_major": 2,
              "version_minor": 0,
              "model_id": "3c5e2179ca354fbea7ede76b3b005c1e"
            }
          },
          "metadata": {}
        },
        {
          "output_type": "stream",
          "name": "stdout",
          "text": [
            "Epoch 3 | Step 200 | loss = 0.093, acc = 0.955\n",
            "Epoch 3 | Step 400 | loss = 0.092, acc = 0.947\n",
            "Epoch 3 | Step 600 | loss = 0.081, acc = 0.954\n",
            "Epoch 3 | Step 800 | loss = 0.063, acc = 0.966\n",
            "Epoch 3 | Step 1000 | loss = 0.092, acc = 0.948\n",
            "Epoch 3 | Step 1200 | loss = 0.086, acc = 0.956\n",
            "Epoch 3 | Step 1400 | loss = 0.109, acc = 0.946\n",
            "Epoch 3 | Step 1600 | loss = 0.089, acc = 0.951\n",
            "Epoch 3 | Step 1800 | loss = 0.114, acc = 0.952\n",
            "Epoch 3 | Step 2000 | loss = 0.115, acc = 0.939\n",
            "Epoch 3 | Step 2200 | loss = 0.085, acc = 0.957\n",
            "Epoch 3 | Step 2400 | loss = 0.087, acc = 0.947\n",
            "Epoch 3 | Step 2600 | loss = 0.105, acc = 0.946\n",
            "Epoch 3 | Step 2800 | loss = 0.100, acc = 0.947\n",
            "Epoch 3 | Step 3000 | loss = 0.086, acc = 0.955\n",
            "Epoch 3 | Step 3200 | loss = 0.102, acc = 0.950\n",
            "Epoch 3 | Step 3400 | loss = 0.087, acc = 0.944\n",
            "Epoch 3 | Step 3600 | loss = 0.102, acc = 0.949\n",
            "Epoch 3 | Step 3800 | loss = 0.087, acc = 0.957\n"
          ]
        }
      ],
      "source": [
        "num_epoch = 3\n",
        "validation =  False\n",
        "logging_step = 200\n",
        "learning_rate = 8e-6\n",
        "optimizer = AdamW(model.parameters(), lr=learning_rate)\n",
        "n_best = 20\n",
        "# optimizer = AdamW(model.parameters(), lr=learning_rate,\n",
        "#       weight_decay=0.01,\n",
        "#       betas=(0.9, 0.999),\n",
        "#       eps=1e-6)\n",
        "\n",
        "scheduler = get_linear_schedule_with_warmup(optimizer, 100, 11886)\n",
        "\n",
        "# accum_iter = 2\n",
        "\n",
        "if fp16_training:\n",
        "    model, optimizer, train_loader = accelerator.prepare(model, optimizer, train_loader) \n",
        "\n",
        "model.train()\n",
        "\n",
        "\n",
        "\n",
        "print(\"Start Training ...\")\n",
        "\n",
        "for epoch in range(num_epoch):\n",
        "    step = 1\n",
        "    train_loss = train_acc = 0\n",
        "    \n",
        "    for batch_idx, data in enumerate(tqdm(train_loader)):\t\n",
        "        # Load all data into GPU\n",
        "        data = [i.to(device) for i in data]\n",
        "        \n",
        "        # Model inputs: input_ids, token_type_ids, attention_mask, start_positions, end_positions (Note: only \"input_ids\" is mandatory)\n",
        "        # Model outputs: start_logits, end_logits, loss (return when start_positions/end_positions are provided)  \n",
        "        with torch.set_grad_enabled(True):\n",
        "        \n",
        "          output = model(input_ids=data[0], token_type_ids=data[1], attention_mask=data[2], start_positions=data[3], end_positions=data[4])\n",
        "\n",
        "          # Choose the most probable start position / end position\n",
        "          start_index = torch.argmax(output.start_logits, dim=1)\n",
        "          end_index = torch.argmax(output.end_logits, dim=1)\n",
        "          \n",
        "          # Prediction is correct only if both start_index and end_index are correct\n",
        "          train_acc += ((start_index == data[3]) & (end_index == data[4])).float().mean()\n",
        "          # output.loss = output.loss / 1\n",
        "          train_loss += output.loss\n",
        "          \n",
        "          if fp16_training:\n",
        "              accelerator.backward(output.loss)\n",
        "          else:\n",
        "              output.loss.backward()\n",
        "          \n",
        "          # if ((batch_idx + 1) % accum_iter == 0) or (batch_idx + 1 == len(train_loader)):\n",
        "          #   optimizer.step()\n",
        "          #   optimizer.zero_grad()\n",
        "          #   scheduler.step()\n",
        "\n",
        "          optimizer.step()\n",
        "          optimizer.zero_grad()\n",
        "          scheduler.step()\n",
        "\n",
        "          step += 1\n",
        "\n",
        "          ##### TODO: Apply linear learning rate decay #####\n",
        "\n",
        "          \n",
        "          # Print training loss and accuracy over past logging step\n",
        "          if step % logging_step == 0:\n",
        "              print(f\"Epoch {epoch + 1} | Step {step} | loss = {train_loss.item() / logging_step:.3f}, acc = {train_acc / logging_step:.3f}\")\n",
        "              train_loss = train_acc = 0\n",
        "\n",
        "    if validation:\n",
        "            print(\"Evaluating Dev Set ...\")\n",
        "            model.eval()\n",
        "            with torch.no_grad():\n",
        "                dev_acc = 0\n",
        "                for i, data in enumerate(tqdm(dev_loader)):\n",
        "                    output = model(input_ids=data[0].squeeze(dim=0).to(device), token_type_ids=data[1].squeeze(dim=0).to(device),\n",
        "                            attention_mask=data[2].squeeze(dim=0).to(device))\n",
        "                    # prediction is correct only if answer text exactly matches\n",
        "                    res = evaluate(data, output, dev_questions[i][\"paragraph_id\"], 64, False, n_best)\n",
        "                    if(res != dev_questions[i][\"answer_text\"]) :\n",
        "                      print(f\"wrong answering: {i}\")\n",
        "                      print(f\"guess: {res}\")\n",
        "                      print(f\"answer: {dev_questions[i]['answer_text']}\")\n",
        "                      print()\n",
        "                    dev_acc += res == dev_questions[i][\"answer_text\"]\n",
        "                print(f\"Validation | Epoch {epoch + 1} | acc = {dev_acc / len(dev_loader):.3f}\")\n",
        "            model.train()\n",
        "    \n",
        "\n",
        "# Save a model and its configuration file to the directory 「saved_model」 \n",
        "# i.e. there are two files under the direcory 「saved_model」: 「pytorch_model.bin」 and 「config.json」\n",
        "# Saved model can be re-loaded using 「model = BertForQuestionAnswering.from_pretrained(\"saved_model\")」\n"
      ]
    },
    {
      "cell_type": "code",
      "execution_count": 14,
      "metadata": {
        "colab": {
          "base_uri": "https://localhost:8080/"
        },
        "id": "12BKkGhPwQW4",
        "outputId": "10462d33-6d8d-44ce-b192-9c1650b2fa57",
        "vscode": {
          "languageId": "python"
        }
      },
      "outputs": [
        {
          "output_type": "stream",
          "name": "stdout",
          "text": [
            "Saving Model ...\n"
          ]
        }
      ],
      "source": [
        "print(\"Saving Model ...\")\n",
        "model_save_dir = \"./saved_model/luhua_macbert_fifth\" \n",
        "model.save_pretrained(model_save_dir)"
      ]
    },
    {
      "cell_type": "code",
      "source": [
        "%pwd"
      ],
      "metadata": {
        "colab": {
          "base_uri": "https://localhost:8080/",
          "height": 35
        },
        "id": "iqEHBNC1nTew",
        "outputId": "cc9bd038-d442-4f98-9270-96a0b31cd907"
      },
      "execution_count": 13,
      "outputs": [
        {
          "output_type": "execute_result",
          "data": {
            "text/plain": [
              "'/content'"
            ],
            "application/vnd.google.colaboratory.intrinsic+json": {
              "type": "string"
            }
          },
          "metadata": {},
          "execution_count": 13
        }
      ]
    },
    {
      "cell_type": "code",
      "source": [
        "print(\"Evaluating Test Set ...\")\n",
        "# tokenizer = BertTokenizerFast.from_pretrained(\"luhua/chinese_pretrain_mrc_macbert_large\")\n",
        "result = []\n",
        "n_best = 20\n",
        "\n",
        "model.eval()\n",
        "with torch.no_grad():\n",
        "    for i, data in enumerate(tqdm(test_loader)):\n",
        "        output = model(input_ids=data[0].squeeze(dim=0).to(device), token_type_ids=data[1].squeeze(dim=0).to(device),\n",
        "                       attention_mask=data[2].squeeze(dim=0).to(device))\n",
        "        result.append(evaluate(data, output, test_questions[i][\"paragraph_id\"], 64, is_test = True, n_best = n_best))\n",
        "\n",
        "result_file = \"result.csv\"\n",
        "with open(result_file, 'w') as f:\t\n",
        "\t  f.write(\"ID,Answer\\n\")\n",
        "\t  for i, test_question in enumerate(test_questions):\n",
        "        # Replace commas in answers with empty strings (since csv is separated by comma)\n",
        "        # Answers in kaggle are processed in the same way\n",
        "\t\t    f.write(f\"{test_question['id']},{result[i].replace(',','')}\\n\")\n",
        "\n",
        "print(f\"Completed! Result is in {result_file}\")"
      ],
      "metadata": {
        "colab": {
          "base_uri": "https://localhost:8080/",
          "height": 84,
          "referenced_widgets": [
            "d8491d514130445dafa59f93897aff16",
            "1e3afddfafad4584bc30ef4654e48250",
            "c01a35124cc64b0eb7b18ab142973885",
            "288fa5120ea545f6a8dd72e8a9bfbae5",
            "fe9c62603d7e4f83bdd3c65f0174708a",
            "16c269ee279b46659088b55e09d71af1",
            "d3cc5c087b4647a9b27c298aee681aec",
            "85d9fedb27e047c985c800c24295a8a9",
            "46a4734c755c45c5b5eeae94a4cd6f0c",
            "cc89d128a90c4fbfaf38501a0daec065",
            "05b4757aa9ab4055942f9a6b201292d3"
          ]
        },
        "id": "i-EE68DxnvQ-",
        "outputId": "c356f8ba-5fdf-4ac5-ae18-b8a318ca6b2a"
      },
      "execution_count": 16,
      "outputs": [
        {
          "output_type": "stream",
          "name": "stdout",
          "text": [
            "Evaluating Test Set ...\n"
          ]
        },
        {
          "output_type": "display_data",
          "data": {
            "text/plain": [
              "  0%|          | 0/4957 [00:00<?, ?it/s]"
            ],
            "application/vnd.jupyter.widget-view+json": {
              "version_major": 2,
              "version_minor": 0,
              "model_id": "d8491d514130445dafa59f93897aff16"
            }
          },
          "metadata": {}
        },
        {
          "output_type": "stream",
          "name": "stdout",
          "text": [
            "Completed! Result is in result.csv\n"
          ]
        }
      ]
    }
  ],
  "metadata": {
    "accelerator": "GPU",
    "colab": {
      "collapsed_sections": [],
      "machine_shape": "hm",
      "name": "luhua_macbert_82775.ipynb",
      "provenance": []
    },
    "kernelspec": {
      "display_name": "Python 3",
      "name": "python3"
    },
    "widgets": {
      "application/vnd.jupyter.widget-state+json": {
        "eb208cd20fa34475a0638ddab2221716": {
          "model_module": "@jupyter-widgets/controls",
          "model_name": "HBoxModel",
          "model_module_version": "1.5.0",
          "state": {
            "_dom_classes": [],
            "_model_module": "@jupyter-widgets/controls",
            "_model_module_version": "1.5.0",
            "_model_name": "HBoxModel",
            "_view_count": null,
            "_view_module": "@jupyter-widgets/controls",
            "_view_module_version": "1.5.0",
            "_view_name": "HBoxView",
            "box_style": "",
            "children": [
              "IPY_MODEL_084fe2b3ee394fcc8b03cac72c602c48",
              "IPY_MODEL_0c11288f5c1e4b6c87ae57ec91c0a186",
              "IPY_MODEL_050d534be7584aeea2ebac1b8a9f6462"
            ],
            "layout": "IPY_MODEL_6f6e184da30c4b2f914748db03e66686"
          }
        },
        "084fe2b3ee394fcc8b03cac72c602c48": {
          "model_module": "@jupyter-widgets/controls",
          "model_name": "HTMLModel",
          "model_module_version": "1.5.0",
          "state": {
            "_dom_classes": [],
            "_model_module": "@jupyter-widgets/controls",
            "_model_module_version": "1.5.0",
            "_model_name": "HTMLModel",
            "_view_count": null,
            "_view_module": "@jupyter-widgets/controls",
            "_view_module_version": "1.5.0",
            "_view_name": "HTMLView",
            "description": "",
            "description_tooltip": null,
            "layout": "IPY_MODEL_30ad7d3f94fa42cd9c5f6f7700127991",
            "placeholder": "​",
            "style": "IPY_MODEL_3338805fcdf1426dbbd512c36e35dcc0",
            "value": "100%"
          }
        },
        "0c11288f5c1e4b6c87ae57ec91c0a186": {
          "model_module": "@jupyter-widgets/controls",
          "model_name": "FloatProgressModel",
          "model_module_version": "1.5.0",
          "state": {
            "_dom_classes": [],
            "_model_module": "@jupyter-widgets/controls",
            "_model_module_version": "1.5.0",
            "_model_name": "FloatProgressModel",
            "_view_count": null,
            "_view_module": "@jupyter-widgets/controls",
            "_view_module_version": "1.5.0",
            "_view_name": "ProgressView",
            "bar_style": "success",
            "description": "",
            "description_tooltip": null,
            "layout": "IPY_MODEL_3f043c7762cd41d99ffd13122a8f30ae",
            "max": 3962,
            "min": 0,
            "orientation": "horizontal",
            "style": "IPY_MODEL_bdb12e5652ca4951818fdf2d83c17eb6",
            "value": 3962
          }
        },
        "050d534be7584aeea2ebac1b8a9f6462": {
          "model_module": "@jupyter-widgets/controls",
          "model_name": "HTMLModel",
          "model_module_version": "1.5.0",
          "state": {
            "_dom_classes": [],
            "_model_module": "@jupyter-widgets/controls",
            "_model_module_version": "1.5.0",
            "_model_name": "HTMLModel",
            "_view_count": null,
            "_view_module": "@jupyter-widgets/controls",
            "_view_module_version": "1.5.0",
            "_view_name": "HTMLView",
            "description": "",
            "description_tooltip": null,
            "layout": "IPY_MODEL_90f8f2daf4204c5bbe8177d1c425dd9d",
            "placeholder": "​",
            "style": "IPY_MODEL_acaaaa0f8b7f4848bef5e6d529a49deb",
            "value": " 3962/3962 [1:08:43&lt;00:00,  1.19it/s]"
          }
        },
        "6f6e184da30c4b2f914748db03e66686": {
          "model_module": "@jupyter-widgets/base",
          "model_name": "LayoutModel",
          "model_module_version": "1.2.0",
          "state": {
            "_model_module": "@jupyter-widgets/base",
            "_model_module_version": "1.2.0",
            "_model_name": "LayoutModel",
            "_view_count": null,
            "_view_module": "@jupyter-widgets/base",
            "_view_module_version": "1.2.0",
            "_view_name": "LayoutView",
            "align_content": null,
            "align_items": null,
            "align_self": null,
            "border": null,
            "bottom": null,
            "display": null,
            "flex": null,
            "flex_flow": null,
            "grid_area": null,
            "grid_auto_columns": null,
            "grid_auto_flow": null,
            "grid_auto_rows": null,
            "grid_column": null,
            "grid_gap": null,
            "grid_row": null,
            "grid_template_areas": null,
            "grid_template_columns": null,
            "grid_template_rows": null,
            "height": null,
            "justify_content": null,
            "justify_items": null,
            "left": null,
            "margin": null,
            "max_height": null,
            "max_width": null,
            "min_height": null,
            "min_width": null,
            "object_fit": null,
            "object_position": null,
            "order": null,
            "overflow": null,
            "overflow_x": null,
            "overflow_y": null,
            "padding": null,
            "right": null,
            "top": null,
            "visibility": null,
            "width": null
          }
        },
        "30ad7d3f94fa42cd9c5f6f7700127991": {
          "model_module": "@jupyter-widgets/base",
          "model_name": "LayoutModel",
          "model_module_version": "1.2.0",
          "state": {
            "_model_module": "@jupyter-widgets/base",
            "_model_module_version": "1.2.0",
            "_model_name": "LayoutModel",
            "_view_count": null,
            "_view_module": "@jupyter-widgets/base",
            "_view_module_version": "1.2.0",
            "_view_name": "LayoutView",
            "align_content": null,
            "align_items": null,
            "align_self": null,
            "border": null,
            "bottom": null,
            "display": null,
            "flex": null,
            "flex_flow": null,
            "grid_area": null,
            "grid_auto_columns": null,
            "grid_auto_flow": null,
            "grid_auto_rows": null,
            "grid_column": null,
            "grid_gap": null,
            "grid_row": null,
            "grid_template_areas": null,
            "grid_template_columns": null,
            "grid_template_rows": null,
            "height": null,
            "justify_content": null,
            "justify_items": null,
            "left": null,
            "margin": null,
            "max_height": null,
            "max_width": null,
            "min_height": null,
            "min_width": null,
            "object_fit": null,
            "object_position": null,
            "order": null,
            "overflow": null,
            "overflow_x": null,
            "overflow_y": null,
            "padding": null,
            "right": null,
            "top": null,
            "visibility": null,
            "width": null
          }
        },
        "3338805fcdf1426dbbd512c36e35dcc0": {
          "model_module": "@jupyter-widgets/controls",
          "model_name": "DescriptionStyleModel",
          "model_module_version": "1.5.0",
          "state": {
            "_model_module": "@jupyter-widgets/controls",
            "_model_module_version": "1.5.0",
            "_model_name": "DescriptionStyleModel",
            "_view_count": null,
            "_view_module": "@jupyter-widgets/base",
            "_view_module_version": "1.2.0",
            "_view_name": "StyleView",
            "description_width": ""
          }
        },
        "3f043c7762cd41d99ffd13122a8f30ae": {
          "model_module": "@jupyter-widgets/base",
          "model_name": "LayoutModel",
          "model_module_version": "1.2.0",
          "state": {
            "_model_module": "@jupyter-widgets/base",
            "_model_module_version": "1.2.0",
            "_model_name": "LayoutModel",
            "_view_count": null,
            "_view_module": "@jupyter-widgets/base",
            "_view_module_version": "1.2.0",
            "_view_name": "LayoutView",
            "align_content": null,
            "align_items": null,
            "align_self": null,
            "border": null,
            "bottom": null,
            "display": null,
            "flex": null,
            "flex_flow": null,
            "grid_area": null,
            "grid_auto_columns": null,
            "grid_auto_flow": null,
            "grid_auto_rows": null,
            "grid_column": null,
            "grid_gap": null,
            "grid_row": null,
            "grid_template_areas": null,
            "grid_template_columns": null,
            "grid_template_rows": null,
            "height": null,
            "justify_content": null,
            "justify_items": null,
            "left": null,
            "margin": null,
            "max_height": null,
            "max_width": null,
            "min_height": null,
            "min_width": null,
            "object_fit": null,
            "object_position": null,
            "order": null,
            "overflow": null,
            "overflow_x": null,
            "overflow_y": null,
            "padding": null,
            "right": null,
            "top": null,
            "visibility": null,
            "width": null
          }
        },
        "bdb12e5652ca4951818fdf2d83c17eb6": {
          "model_module": "@jupyter-widgets/controls",
          "model_name": "ProgressStyleModel",
          "model_module_version": "1.5.0",
          "state": {
            "_model_module": "@jupyter-widgets/controls",
            "_model_module_version": "1.5.0",
            "_model_name": "ProgressStyleModel",
            "_view_count": null,
            "_view_module": "@jupyter-widgets/base",
            "_view_module_version": "1.2.0",
            "_view_name": "StyleView",
            "bar_color": null,
            "description_width": ""
          }
        },
        "90f8f2daf4204c5bbe8177d1c425dd9d": {
          "model_module": "@jupyter-widgets/base",
          "model_name": "LayoutModel",
          "model_module_version": "1.2.0",
          "state": {
            "_model_module": "@jupyter-widgets/base",
            "_model_module_version": "1.2.0",
            "_model_name": "LayoutModel",
            "_view_count": null,
            "_view_module": "@jupyter-widgets/base",
            "_view_module_version": "1.2.0",
            "_view_name": "LayoutView",
            "align_content": null,
            "align_items": null,
            "align_self": null,
            "border": null,
            "bottom": null,
            "display": null,
            "flex": null,
            "flex_flow": null,
            "grid_area": null,
            "grid_auto_columns": null,
            "grid_auto_flow": null,
            "grid_auto_rows": null,
            "grid_column": null,
            "grid_gap": null,
            "grid_row": null,
            "grid_template_areas": null,
            "grid_template_columns": null,
            "grid_template_rows": null,
            "height": null,
            "justify_content": null,
            "justify_items": null,
            "left": null,
            "margin": null,
            "max_height": null,
            "max_width": null,
            "min_height": null,
            "min_width": null,
            "object_fit": null,
            "object_position": null,
            "order": null,
            "overflow": null,
            "overflow_x": null,
            "overflow_y": null,
            "padding": null,
            "right": null,
            "top": null,
            "visibility": null,
            "width": null
          }
        },
        "acaaaa0f8b7f4848bef5e6d529a49deb": {
          "model_module": "@jupyter-widgets/controls",
          "model_name": "DescriptionStyleModel",
          "model_module_version": "1.5.0",
          "state": {
            "_model_module": "@jupyter-widgets/controls",
            "_model_module_version": "1.5.0",
            "_model_name": "DescriptionStyleModel",
            "_view_count": null,
            "_view_module": "@jupyter-widgets/base",
            "_view_module_version": "1.2.0",
            "_view_name": "StyleView",
            "description_width": ""
          }
        },
        "aeb24a8ef1154955a1e1f739932549cc": {
          "model_module": "@jupyter-widgets/controls",
          "model_name": "HBoxModel",
          "model_module_version": "1.5.0",
          "state": {
            "_dom_classes": [],
            "_model_module": "@jupyter-widgets/controls",
            "_model_module_version": "1.5.0",
            "_model_name": "HBoxModel",
            "_view_count": null,
            "_view_module": "@jupyter-widgets/controls",
            "_view_module_version": "1.5.0",
            "_view_name": "HBoxView",
            "box_style": "",
            "children": [
              "IPY_MODEL_8a9fc7d64cf04a478351f2ffa120e15a",
              "IPY_MODEL_ab0cd5f6fc6c449c93c431d9f1e11d59",
              "IPY_MODEL_ef96c388fa134fe1b9c39fe4bc8e8ab8"
            ],
            "layout": "IPY_MODEL_4cc786ca6f6b49ef8da85a3e3d6da678"
          }
        },
        "8a9fc7d64cf04a478351f2ffa120e15a": {
          "model_module": "@jupyter-widgets/controls",
          "model_name": "HTMLModel",
          "model_module_version": "1.5.0",
          "state": {
            "_dom_classes": [],
            "_model_module": "@jupyter-widgets/controls",
            "_model_module_version": "1.5.0",
            "_model_name": "HTMLModel",
            "_view_count": null,
            "_view_module": "@jupyter-widgets/controls",
            "_view_module_version": "1.5.0",
            "_view_name": "HTMLView",
            "description": "",
            "description_tooltip": null,
            "layout": "IPY_MODEL_02f6efa75dd745b3adf0a35ce84907b4",
            "placeholder": "​",
            "style": "IPY_MODEL_abfbf482f0f748929a83d061bf39553f",
            "value": "100%"
          }
        },
        "ab0cd5f6fc6c449c93c431d9f1e11d59": {
          "model_module": "@jupyter-widgets/controls",
          "model_name": "FloatProgressModel",
          "model_module_version": "1.5.0",
          "state": {
            "_dom_classes": [],
            "_model_module": "@jupyter-widgets/controls",
            "_model_module_version": "1.5.0",
            "_model_name": "FloatProgressModel",
            "_view_count": null,
            "_view_module": "@jupyter-widgets/controls",
            "_view_module_version": "1.5.0",
            "_view_name": "ProgressView",
            "bar_style": "success",
            "description": "",
            "description_tooltip": null,
            "layout": "IPY_MODEL_097c7d785ceb44558336db58c365d5f3",
            "max": 3962,
            "min": 0,
            "orientation": "horizontal",
            "style": "IPY_MODEL_db0cec9b804f4c4cb9a0b8f681100f22",
            "value": 3962
          }
        },
        "ef96c388fa134fe1b9c39fe4bc8e8ab8": {
          "model_module": "@jupyter-widgets/controls",
          "model_name": "HTMLModel",
          "model_module_version": "1.5.0",
          "state": {
            "_dom_classes": [],
            "_model_module": "@jupyter-widgets/controls",
            "_model_module_version": "1.5.0",
            "_model_name": "HTMLModel",
            "_view_count": null,
            "_view_module": "@jupyter-widgets/controls",
            "_view_module_version": "1.5.0",
            "_view_name": "HTMLView",
            "description": "",
            "description_tooltip": null,
            "layout": "IPY_MODEL_f1c7201b01114fa7a5038a6588dbf5c4",
            "placeholder": "​",
            "style": "IPY_MODEL_98eeac1277504c1d86c0e4baaf2369e8",
            "value": " 3962/3962 [1:08:37&lt;00:00,  1.19it/s]"
          }
        },
        "4cc786ca6f6b49ef8da85a3e3d6da678": {
          "model_module": "@jupyter-widgets/base",
          "model_name": "LayoutModel",
          "model_module_version": "1.2.0",
          "state": {
            "_model_module": "@jupyter-widgets/base",
            "_model_module_version": "1.2.0",
            "_model_name": "LayoutModel",
            "_view_count": null,
            "_view_module": "@jupyter-widgets/base",
            "_view_module_version": "1.2.0",
            "_view_name": "LayoutView",
            "align_content": null,
            "align_items": null,
            "align_self": null,
            "border": null,
            "bottom": null,
            "display": null,
            "flex": null,
            "flex_flow": null,
            "grid_area": null,
            "grid_auto_columns": null,
            "grid_auto_flow": null,
            "grid_auto_rows": null,
            "grid_column": null,
            "grid_gap": null,
            "grid_row": null,
            "grid_template_areas": null,
            "grid_template_columns": null,
            "grid_template_rows": null,
            "height": null,
            "justify_content": null,
            "justify_items": null,
            "left": null,
            "margin": null,
            "max_height": null,
            "max_width": null,
            "min_height": null,
            "min_width": null,
            "object_fit": null,
            "object_position": null,
            "order": null,
            "overflow": null,
            "overflow_x": null,
            "overflow_y": null,
            "padding": null,
            "right": null,
            "top": null,
            "visibility": null,
            "width": null
          }
        },
        "02f6efa75dd745b3adf0a35ce84907b4": {
          "model_module": "@jupyter-widgets/base",
          "model_name": "LayoutModel",
          "model_module_version": "1.2.0",
          "state": {
            "_model_module": "@jupyter-widgets/base",
            "_model_module_version": "1.2.0",
            "_model_name": "LayoutModel",
            "_view_count": null,
            "_view_module": "@jupyter-widgets/base",
            "_view_module_version": "1.2.0",
            "_view_name": "LayoutView",
            "align_content": null,
            "align_items": null,
            "align_self": null,
            "border": null,
            "bottom": null,
            "display": null,
            "flex": null,
            "flex_flow": null,
            "grid_area": null,
            "grid_auto_columns": null,
            "grid_auto_flow": null,
            "grid_auto_rows": null,
            "grid_column": null,
            "grid_gap": null,
            "grid_row": null,
            "grid_template_areas": null,
            "grid_template_columns": null,
            "grid_template_rows": null,
            "height": null,
            "justify_content": null,
            "justify_items": null,
            "left": null,
            "margin": null,
            "max_height": null,
            "max_width": null,
            "min_height": null,
            "min_width": null,
            "object_fit": null,
            "object_position": null,
            "order": null,
            "overflow": null,
            "overflow_x": null,
            "overflow_y": null,
            "padding": null,
            "right": null,
            "top": null,
            "visibility": null,
            "width": null
          }
        },
        "abfbf482f0f748929a83d061bf39553f": {
          "model_module": "@jupyter-widgets/controls",
          "model_name": "DescriptionStyleModel",
          "model_module_version": "1.5.0",
          "state": {
            "_model_module": "@jupyter-widgets/controls",
            "_model_module_version": "1.5.0",
            "_model_name": "DescriptionStyleModel",
            "_view_count": null,
            "_view_module": "@jupyter-widgets/base",
            "_view_module_version": "1.2.0",
            "_view_name": "StyleView",
            "description_width": ""
          }
        },
        "097c7d785ceb44558336db58c365d5f3": {
          "model_module": "@jupyter-widgets/base",
          "model_name": "LayoutModel",
          "model_module_version": "1.2.0",
          "state": {
            "_model_module": "@jupyter-widgets/base",
            "_model_module_version": "1.2.0",
            "_model_name": "LayoutModel",
            "_view_count": null,
            "_view_module": "@jupyter-widgets/base",
            "_view_module_version": "1.2.0",
            "_view_name": "LayoutView",
            "align_content": null,
            "align_items": null,
            "align_self": null,
            "border": null,
            "bottom": null,
            "display": null,
            "flex": null,
            "flex_flow": null,
            "grid_area": null,
            "grid_auto_columns": null,
            "grid_auto_flow": null,
            "grid_auto_rows": null,
            "grid_column": null,
            "grid_gap": null,
            "grid_row": null,
            "grid_template_areas": null,
            "grid_template_columns": null,
            "grid_template_rows": null,
            "height": null,
            "justify_content": null,
            "justify_items": null,
            "left": null,
            "margin": null,
            "max_height": null,
            "max_width": null,
            "min_height": null,
            "min_width": null,
            "object_fit": null,
            "object_position": null,
            "order": null,
            "overflow": null,
            "overflow_x": null,
            "overflow_y": null,
            "padding": null,
            "right": null,
            "top": null,
            "visibility": null,
            "width": null
          }
        },
        "db0cec9b804f4c4cb9a0b8f681100f22": {
          "model_module": "@jupyter-widgets/controls",
          "model_name": "ProgressStyleModel",
          "model_module_version": "1.5.0",
          "state": {
            "_model_module": "@jupyter-widgets/controls",
            "_model_module_version": "1.5.0",
            "_model_name": "ProgressStyleModel",
            "_view_count": null,
            "_view_module": "@jupyter-widgets/base",
            "_view_module_version": "1.2.0",
            "_view_name": "StyleView",
            "bar_color": null,
            "description_width": ""
          }
        },
        "f1c7201b01114fa7a5038a6588dbf5c4": {
          "model_module": "@jupyter-widgets/base",
          "model_name": "LayoutModel",
          "model_module_version": "1.2.0",
          "state": {
            "_model_module": "@jupyter-widgets/base",
            "_model_module_version": "1.2.0",
            "_model_name": "LayoutModel",
            "_view_count": null,
            "_view_module": "@jupyter-widgets/base",
            "_view_module_version": "1.2.0",
            "_view_name": "LayoutView",
            "align_content": null,
            "align_items": null,
            "align_self": null,
            "border": null,
            "bottom": null,
            "display": null,
            "flex": null,
            "flex_flow": null,
            "grid_area": null,
            "grid_auto_columns": null,
            "grid_auto_flow": null,
            "grid_auto_rows": null,
            "grid_column": null,
            "grid_gap": null,
            "grid_row": null,
            "grid_template_areas": null,
            "grid_template_columns": null,
            "grid_template_rows": null,
            "height": null,
            "justify_content": null,
            "justify_items": null,
            "left": null,
            "margin": null,
            "max_height": null,
            "max_width": null,
            "min_height": null,
            "min_width": null,
            "object_fit": null,
            "object_position": null,
            "order": null,
            "overflow": null,
            "overflow_x": null,
            "overflow_y": null,
            "padding": null,
            "right": null,
            "top": null,
            "visibility": null,
            "width": null
          }
        },
        "98eeac1277504c1d86c0e4baaf2369e8": {
          "model_module": "@jupyter-widgets/controls",
          "model_name": "DescriptionStyleModel",
          "model_module_version": "1.5.0",
          "state": {
            "_model_module": "@jupyter-widgets/controls",
            "_model_module_version": "1.5.0",
            "_model_name": "DescriptionStyleModel",
            "_view_count": null,
            "_view_module": "@jupyter-widgets/base",
            "_view_module_version": "1.2.0",
            "_view_name": "StyleView",
            "description_width": ""
          }
        },
        "3c5e2179ca354fbea7ede76b3b005c1e": {
          "model_module": "@jupyter-widgets/controls",
          "model_name": "HBoxModel",
          "model_module_version": "1.5.0",
          "state": {
            "_dom_classes": [],
            "_model_module": "@jupyter-widgets/controls",
            "_model_module_version": "1.5.0",
            "_model_name": "HBoxModel",
            "_view_count": null,
            "_view_module": "@jupyter-widgets/controls",
            "_view_module_version": "1.5.0",
            "_view_name": "HBoxView",
            "box_style": "",
            "children": [
              "IPY_MODEL_5e817512c6da48de9f42b61a98415fd1",
              "IPY_MODEL_ee48e7c05f2041a6849b9bd7df3438ef",
              "IPY_MODEL_f5d9d8fd6e5244ae95922a72583afcb5"
            ],
            "layout": "IPY_MODEL_80319d8de8c44cba8ccec0e5d53b81fe"
          }
        },
        "5e817512c6da48de9f42b61a98415fd1": {
          "model_module": "@jupyter-widgets/controls",
          "model_name": "HTMLModel",
          "model_module_version": "1.5.0",
          "state": {
            "_dom_classes": [],
            "_model_module": "@jupyter-widgets/controls",
            "_model_module_version": "1.5.0",
            "_model_name": "HTMLModel",
            "_view_count": null,
            "_view_module": "@jupyter-widgets/controls",
            "_view_module_version": "1.5.0",
            "_view_name": "HTMLView",
            "description": "",
            "description_tooltip": null,
            "layout": "IPY_MODEL_71f880721b654309b1fc71f9a5649fee",
            "placeholder": "​",
            "style": "IPY_MODEL_ef428c826baa42d0bca1c61116649e9f",
            "value": "100%"
          }
        },
        "ee48e7c05f2041a6849b9bd7df3438ef": {
          "model_module": "@jupyter-widgets/controls",
          "model_name": "FloatProgressModel",
          "model_module_version": "1.5.0",
          "state": {
            "_dom_classes": [],
            "_model_module": "@jupyter-widgets/controls",
            "_model_module_version": "1.5.0",
            "_model_name": "FloatProgressModel",
            "_view_count": null,
            "_view_module": "@jupyter-widgets/controls",
            "_view_module_version": "1.5.0",
            "_view_name": "ProgressView",
            "bar_style": "success",
            "description": "",
            "description_tooltip": null,
            "layout": "IPY_MODEL_279444be92dd4037a3c378e1a702182c",
            "max": 3962,
            "min": 0,
            "orientation": "horizontal",
            "style": "IPY_MODEL_ad57936ab9884e78a656bec98db256be",
            "value": 3962
          }
        },
        "f5d9d8fd6e5244ae95922a72583afcb5": {
          "model_module": "@jupyter-widgets/controls",
          "model_name": "HTMLModel",
          "model_module_version": "1.5.0",
          "state": {
            "_dom_classes": [],
            "_model_module": "@jupyter-widgets/controls",
            "_model_module_version": "1.5.0",
            "_model_name": "HTMLModel",
            "_view_count": null,
            "_view_module": "@jupyter-widgets/controls",
            "_view_module_version": "1.5.0",
            "_view_name": "HTMLView",
            "description": "",
            "description_tooltip": null,
            "layout": "IPY_MODEL_61a895630c3e400e90525092f544e186",
            "placeholder": "​",
            "style": "IPY_MODEL_6abc28d5fd654e75ab37facb30d9d5b0",
            "value": " 3962/3962 [1:08:20&lt;00:00,  1.19it/s]"
          }
        },
        "80319d8de8c44cba8ccec0e5d53b81fe": {
          "model_module": "@jupyter-widgets/base",
          "model_name": "LayoutModel",
          "model_module_version": "1.2.0",
          "state": {
            "_model_module": "@jupyter-widgets/base",
            "_model_module_version": "1.2.0",
            "_model_name": "LayoutModel",
            "_view_count": null,
            "_view_module": "@jupyter-widgets/base",
            "_view_module_version": "1.2.0",
            "_view_name": "LayoutView",
            "align_content": null,
            "align_items": null,
            "align_self": null,
            "border": null,
            "bottom": null,
            "display": null,
            "flex": null,
            "flex_flow": null,
            "grid_area": null,
            "grid_auto_columns": null,
            "grid_auto_flow": null,
            "grid_auto_rows": null,
            "grid_column": null,
            "grid_gap": null,
            "grid_row": null,
            "grid_template_areas": null,
            "grid_template_columns": null,
            "grid_template_rows": null,
            "height": null,
            "justify_content": null,
            "justify_items": null,
            "left": null,
            "margin": null,
            "max_height": null,
            "max_width": null,
            "min_height": null,
            "min_width": null,
            "object_fit": null,
            "object_position": null,
            "order": null,
            "overflow": null,
            "overflow_x": null,
            "overflow_y": null,
            "padding": null,
            "right": null,
            "top": null,
            "visibility": null,
            "width": null
          }
        },
        "71f880721b654309b1fc71f9a5649fee": {
          "model_module": "@jupyter-widgets/base",
          "model_name": "LayoutModel",
          "model_module_version": "1.2.0",
          "state": {
            "_model_module": "@jupyter-widgets/base",
            "_model_module_version": "1.2.0",
            "_model_name": "LayoutModel",
            "_view_count": null,
            "_view_module": "@jupyter-widgets/base",
            "_view_module_version": "1.2.0",
            "_view_name": "LayoutView",
            "align_content": null,
            "align_items": null,
            "align_self": null,
            "border": null,
            "bottom": null,
            "display": null,
            "flex": null,
            "flex_flow": null,
            "grid_area": null,
            "grid_auto_columns": null,
            "grid_auto_flow": null,
            "grid_auto_rows": null,
            "grid_column": null,
            "grid_gap": null,
            "grid_row": null,
            "grid_template_areas": null,
            "grid_template_columns": null,
            "grid_template_rows": null,
            "height": null,
            "justify_content": null,
            "justify_items": null,
            "left": null,
            "margin": null,
            "max_height": null,
            "max_width": null,
            "min_height": null,
            "min_width": null,
            "object_fit": null,
            "object_position": null,
            "order": null,
            "overflow": null,
            "overflow_x": null,
            "overflow_y": null,
            "padding": null,
            "right": null,
            "top": null,
            "visibility": null,
            "width": null
          }
        },
        "ef428c826baa42d0bca1c61116649e9f": {
          "model_module": "@jupyter-widgets/controls",
          "model_name": "DescriptionStyleModel",
          "model_module_version": "1.5.0",
          "state": {
            "_model_module": "@jupyter-widgets/controls",
            "_model_module_version": "1.5.0",
            "_model_name": "DescriptionStyleModel",
            "_view_count": null,
            "_view_module": "@jupyter-widgets/base",
            "_view_module_version": "1.2.0",
            "_view_name": "StyleView",
            "description_width": ""
          }
        },
        "279444be92dd4037a3c378e1a702182c": {
          "model_module": "@jupyter-widgets/base",
          "model_name": "LayoutModel",
          "model_module_version": "1.2.0",
          "state": {
            "_model_module": "@jupyter-widgets/base",
            "_model_module_version": "1.2.0",
            "_model_name": "LayoutModel",
            "_view_count": null,
            "_view_module": "@jupyter-widgets/base",
            "_view_module_version": "1.2.0",
            "_view_name": "LayoutView",
            "align_content": null,
            "align_items": null,
            "align_self": null,
            "border": null,
            "bottom": null,
            "display": null,
            "flex": null,
            "flex_flow": null,
            "grid_area": null,
            "grid_auto_columns": null,
            "grid_auto_flow": null,
            "grid_auto_rows": null,
            "grid_column": null,
            "grid_gap": null,
            "grid_row": null,
            "grid_template_areas": null,
            "grid_template_columns": null,
            "grid_template_rows": null,
            "height": null,
            "justify_content": null,
            "justify_items": null,
            "left": null,
            "margin": null,
            "max_height": null,
            "max_width": null,
            "min_height": null,
            "min_width": null,
            "object_fit": null,
            "object_position": null,
            "order": null,
            "overflow": null,
            "overflow_x": null,
            "overflow_y": null,
            "padding": null,
            "right": null,
            "top": null,
            "visibility": null,
            "width": null
          }
        },
        "ad57936ab9884e78a656bec98db256be": {
          "model_module": "@jupyter-widgets/controls",
          "model_name": "ProgressStyleModel",
          "model_module_version": "1.5.0",
          "state": {
            "_model_module": "@jupyter-widgets/controls",
            "_model_module_version": "1.5.0",
            "_model_name": "ProgressStyleModel",
            "_view_count": null,
            "_view_module": "@jupyter-widgets/base",
            "_view_module_version": "1.2.0",
            "_view_name": "StyleView",
            "bar_color": null,
            "description_width": ""
          }
        },
        "61a895630c3e400e90525092f544e186": {
          "model_module": "@jupyter-widgets/base",
          "model_name": "LayoutModel",
          "model_module_version": "1.2.0",
          "state": {
            "_model_module": "@jupyter-widgets/base",
            "_model_module_version": "1.2.0",
            "_model_name": "LayoutModel",
            "_view_count": null,
            "_view_module": "@jupyter-widgets/base",
            "_view_module_version": "1.2.0",
            "_view_name": "LayoutView",
            "align_content": null,
            "align_items": null,
            "align_self": null,
            "border": null,
            "bottom": null,
            "display": null,
            "flex": null,
            "flex_flow": null,
            "grid_area": null,
            "grid_auto_columns": null,
            "grid_auto_flow": null,
            "grid_auto_rows": null,
            "grid_column": null,
            "grid_gap": null,
            "grid_row": null,
            "grid_template_areas": null,
            "grid_template_columns": null,
            "grid_template_rows": null,
            "height": null,
            "justify_content": null,
            "justify_items": null,
            "left": null,
            "margin": null,
            "max_height": null,
            "max_width": null,
            "min_height": null,
            "min_width": null,
            "object_fit": null,
            "object_position": null,
            "order": null,
            "overflow": null,
            "overflow_x": null,
            "overflow_y": null,
            "padding": null,
            "right": null,
            "top": null,
            "visibility": null,
            "width": null
          }
        },
        "6abc28d5fd654e75ab37facb30d9d5b0": {
          "model_module": "@jupyter-widgets/controls",
          "model_name": "DescriptionStyleModel",
          "model_module_version": "1.5.0",
          "state": {
            "_model_module": "@jupyter-widgets/controls",
            "_model_module_version": "1.5.0",
            "_model_name": "DescriptionStyleModel",
            "_view_count": null,
            "_view_module": "@jupyter-widgets/base",
            "_view_module_version": "1.2.0",
            "_view_name": "StyleView",
            "description_width": ""
          }
        },
        "d8491d514130445dafa59f93897aff16": {
          "model_module": "@jupyter-widgets/controls",
          "model_name": "HBoxModel",
          "model_module_version": "1.5.0",
          "state": {
            "_dom_classes": [],
            "_model_module": "@jupyter-widgets/controls",
            "_model_module_version": "1.5.0",
            "_model_name": "HBoxModel",
            "_view_count": null,
            "_view_module": "@jupyter-widgets/controls",
            "_view_module_version": "1.5.0",
            "_view_name": "HBoxView",
            "box_style": "",
            "children": [
              "IPY_MODEL_1e3afddfafad4584bc30ef4654e48250",
              "IPY_MODEL_c01a35124cc64b0eb7b18ab142973885",
              "IPY_MODEL_288fa5120ea545f6a8dd72e8a9bfbae5"
            ],
            "layout": "IPY_MODEL_fe9c62603d7e4f83bdd3c65f0174708a"
          }
        },
        "1e3afddfafad4584bc30ef4654e48250": {
          "model_module": "@jupyter-widgets/controls",
          "model_name": "HTMLModel",
          "model_module_version": "1.5.0",
          "state": {
            "_dom_classes": [],
            "_model_module": "@jupyter-widgets/controls",
            "_model_module_version": "1.5.0",
            "_model_name": "HTMLModel",
            "_view_count": null,
            "_view_module": "@jupyter-widgets/controls",
            "_view_module_version": "1.5.0",
            "_view_name": "HTMLView",
            "description": "",
            "description_tooltip": null,
            "layout": "IPY_MODEL_16c269ee279b46659088b55e09d71af1",
            "placeholder": "​",
            "style": "IPY_MODEL_d3cc5c087b4647a9b27c298aee681aec",
            "value": "100%"
          }
        },
        "c01a35124cc64b0eb7b18ab142973885": {
          "model_module": "@jupyter-widgets/controls",
          "model_name": "FloatProgressModel",
          "model_module_version": "1.5.0",
          "state": {
            "_dom_classes": [],
            "_model_module": "@jupyter-widgets/controls",
            "_model_module_version": "1.5.0",
            "_model_name": "FloatProgressModel",
            "_view_count": null,
            "_view_module": "@jupyter-widgets/controls",
            "_view_module_version": "1.5.0",
            "_view_name": "ProgressView",
            "bar_style": "success",
            "description": "",
            "description_tooltip": null,
            "layout": "IPY_MODEL_85d9fedb27e047c985c800c24295a8a9",
            "max": 4957,
            "min": 0,
            "orientation": "horizontal",
            "style": "IPY_MODEL_46a4734c755c45c5b5eeae94a4cd6f0c",
            "value": 4957
          }
        },
        "288fa5120ea545f6a8dd72e8a9bfbae5": {
          "model_module": "@jupyter-widgets/controls",
          "model_name": "HTMLModel",
          "model_module_version": "1.5.0",
          "state": {
            "_dom_classes": [],
            "_model_module": "@jupyter-widgets/controls",
            "_model_module_version": "1.5.0",
            "_model_name": "HTMLModel",
            "_view_count": null,
            "_view_module": "@jupyter-widgets/controls",
            "_view_module_version": "1.5.0",
            "_view_name": "HTMLView",
            "description": "",
            "description_tooltip": null,
            "layout": "IPY_MODEL_cc89d128a90c4fbfaf38501a0daec065",
            "placeholder": "​",
            "style": "IPY_MODEL_05b4757aa9ab4055942f9a6b201292d3",
            "value": " 4957/4957 [1:00:02&lt;00:00,  1.63it/s]"
          }
        },
        "fe9c62603d7e4f83bdd3c65f0174708a": {
          "model_module": "@jupyter-widgets/base",
          "model_name": "LayoutModel",
          "model_module_version": "1.2.0",
          "state": {
            "_model_module": "@jupyter-widgets/base",
            "_model_module_version": "1.2.0",
            "_model_name": "LayoutModel",
            "_view_count": null,
            "_view_module": "@jupyter-widgets/base",
            "_view_module_version": "1.2.0",
            "_view_name": "LayoutView",
            "align_content": null,
            "align_items": null,
            "align_self": null,
            "border": null,
            "bottom": null,
            "display": null,
            "flex": null,
            "flex_flow": null,
            "grid_area": null,
            "grid_auto_columns": null,
            "grid_auto_flow": null,
            "grid_auto_rows": null,
            "grid_column": null,
            "grid_gap": null,
            "grid_row": null,
            "grid_template_areas": null,
            "grid_template_columns": null,
            "grid_template_rows": null,
            "height": null,
            "justify_content": null,
            "justify_items": null,
            "left": null,
            "margin": null,
            "max_height": null,
            "max_width": null,
            "min_height": null,
            "min_width": null,
            "object_fit": null,
            "object_position": null,
            "order": null,
            "overflow": null,
            "overflow_x": null,
            "overflow_y": null,
            "padding": null,
            "right": null,
            "top": null,
            "visibility": null,
            "width": null
          }
        },
        "16c269ee279b46659088b55e09d71af1": {
          "model_module": "@jupyter-widgets/base",
          "model_name": "LayoutModel",
          "model_module_version": "1.2.0",
          "state": {
            "_model_module": "@jupyter-widgets/base",
            "_model_module_version": "1.2.0",
            "_model_name": "LayoutModel",
            "_view_count": null,
            "_view_module": "@jupyter-widgets/base",
            "_view_module_version": "1.2.0",
            "_view_name": "LayoutView",
            "align_content": null,
            "align_items": null,
            "align_self": null,
            "border": null,
            "bottom": null,
            "display": null,
            "flex": null,
            "flex_flow": null,
            "grid_area": null,
            "grid_auto_columns": null,
            "grid_auto_flow": null,
            "grid_auto_rows": null,
            "grid_column": null,
            "grid_gap": null,
            "grid_row": null,
            "grid_template_areas": null,
            "grid_template_columns": null,
            "grid_template_rows": null,
            "height": null,
            "justify_content": null,
            "justify_items": null,
            "left": null,
            "margin": null,
            "max_height": null,
            "max_width": null,
            "min_height": null,
            "min_width": null,
            "object_fit": null,
            "object_position": null,
            "order": null,
            "overflow": null,
            "overflow_x": null,
            "overflow_y": null,
            "padding": null,
            "right": null,
            "top": null,
            "visibility": null,
            "width": null
          }
        },
        "d3cc5c087b4647a9b27c298aee681aec": {
          "model_module": "@jupyter-widgets/controls",
          "model_name": "DescriptionStyleModel",
          "model_module_version": "1.5.0",
          "state": {
            "_model_module": "@jupyter-widgets/controls",
            "_model_module_version": "1.5.0",
            "_model_name": "DescriptionStyleModel",
            "_view_count": null,
            "_view_module": "@jupyter-widgets/base",
            "_view_module_version": "1.2.0",
            "_view_name": "StyleView",
            "description_width": ""
          }
        },
        "85d9fedb27e047c985c800c24295a8a9": {
          "model_module": "@jupyter-widgets/base",
          "model_name": "LayoutModel",
          "model_module_version": "1.2.0",
          "state": {
            "_model_module": "@jupyter-widgets/base",
            "_model_module_version": "1.2.0",
            "_model_name": "LayoutModel",
            "_view_count": null,
            "_view_module": "@jupyter-widgets/base",
            "_view_module_version": "1.2.0",
            "_view_name": "LayoutView",
            "align_content": null,
            "align_items": null,
            "align_self": null,
            "border": null,
            "bottom": null,
            "display": null,
            "flex": null,
            "flex_flow": null,
            "grid_area": null,
            "grid_auto_columns": null,
            "grid_auto_flow": null,
            "grid_auto_rows": null,
            "grid_column": null,
            "grid_gap": null,
            "grid_row": null,
            "grid_template_areas": null,
            "grid_template_columns": null,
            "grid_template_rows": null,
            "height": null,
            "justify_content": null,
            "justify_items": null,
            "left": null,
            "margin": null,
            "max_height": null,
            "max_width": null,
            "min_height": null,
            "min_width": null,
            "object_fit": null,
            "object_position": null,
            "order": null,
            "overflow": null,
            "overflow_x": null,
            "overflow_y": null,
            "padding": null,
            "right": null,
            "top": null,
            "visibility": null,
            "width": null
          }
        },
        "46a4734c755c45c5b5eeae94a4cd6f0c": {
          "model_module": "@jupyter-widgets/controls",
          "model_name": "ProgressStyleModel",
          "model_module_version": "1.5.0",
          "state": {
            "_model_module": "@jupyter-widgets/controls",
            "_model_module_version": "1.5.0",
            "_model_name": "ProgressStyleModel",
            "_view_count": null,
            "_view_module": "@jupyter-widgets/base",
            "_view_module_version": "1.2.0",
            "_view_name": "StyleView",
            "bar_color": null,
            "description_width": ""
          }
        },
        "cc89d128a90c4fbfaf38501a0daec065": {
          "model_module": "@jupyter-widgets/base",
          "model_name": "LayoutModel",
          "model_module_version": "1.2.0",
          "state": {
            "_model_module": "@jupyter-widgets/base",
            "_model_module_version": "1.2.0",
            "_model_name": "LayoutModel",
            "_view_count": null,
            "_view_module": "@jupyter-widgets/base",
            "_view_module_version": "1.2.0",
            "_view_name": "LayoutView",
            "align_content": null,
            "align_items": null,
            "align_self": null,
            "border": null,
            "bottom": null,
            "display": null,
            "flex": null,
            "flex_flow": null,
            "grid_area": null,
            "grid_auto_columns": null,
            "grid_auto_flow": null,
            "grid_auto_rows": null,
            "grid_column": null,
            "grid_gap": null,
            "grid_row": null,
            "grid_template_areas": null,
            "grid_template_columns": null,
            "grid_template_rows": null,
            "height": null,
            "justify_content": null,
            "justify_items": null,
            "left": null,
            "margin": null,
            "max_height": null,
            "max_width": null,
            "min_height": null,
            "min_width": null,
            "object_fit": null,
            "object_position": null,
            "order": null,
            "overflow": null,
            "overflow_x": null,
            "overflow_y": null,
            "padding": null,
            "right": null,
            "top": null,
            "visibility": null,
            "width": null
          }
        },
        "05b4757aa9ab4055942f9a6b201292d3": {
          "model_module": "@jupyter-widgets/controls",
          "model_name": "DescriptionStyleModel",
          "model_module_version": "1.5.0",
          "state": {
            "_model_module": "@jupyter-widgets/controls",
            "_model_module_version": "1.5.0",
            "_model_name": "DescriptionStyleModel",
            "_view_count": null,
            "_view_module": "@jupyter-widgets/base",
            "_view_module_version": "1.2.0",
            "_view_name": "StyleView",
            "description_width": ""
          }
        }
      }
    }
  },
  "nbformat": 4,
  "nbformat_minor": 0
}